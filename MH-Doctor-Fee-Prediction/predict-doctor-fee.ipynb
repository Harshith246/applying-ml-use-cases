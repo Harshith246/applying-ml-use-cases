{
 "cells": [
  {
   "cell_type": "markdown",
   "metadata": {},
   "source": [
    "## Problem Statement\n",
    "Given the following features about a doctor, predict the consulting fee of the doctor.\n",
    "\n",
    "### FEATURES:\n",
    "* Qualification: Qualification and degrees held by the doctor\n",
    "* Experience: Experience of the doctor in number of years\n",
    "* Rating: Rating given by patients\n",
    "* Profile: Type of the doctor\n",
    "* Miscellaeous_Info: Extra information about the doctor\n",
    "* Fees: Fees charged by the doctor\n",
    "* Place: Area and the city where the doctor is located."
   ]
  },
  {
   "cell_type": "markdown",
   "metadata": {},
   "source": [
    "## Read Data"
   ]
  },
  {
   "cell_type": "code",
   "execution_count": 1,
   "metadata": {},
   "outputs": [
    {
     "data": {
      "application/javascript": [
       "\n",
       "IPython.OutputArea.prototype._should_scroll = function(lines) {\n",
       "    return false;\n",
       "}\n"
      ],
      "text/plain": [
       "<IPython.core.display.Javascript object>"
      ]
     },
     "metadata": {},
     "output_type": "display_data"
    }
   ],
   "source": [
    "# Import libraries\n",
    "import numpy as np\n",
    "import pandas as pd\n",
    "import matplotlib.pyplot as plt\n",
    "import seaborn as sns\n",
    "%matplotlib inline\n",
    "import warnings\n",
    "warnings.filterwarnings('ignore')\n",
    "import os\n",
    "from textwrap import wrap\n",
    "import re\n",
    "\n",
    "# Set default fontsize and colors for graphs\n",
    "SMALL_SIZE, MEDIUM_SIZE, BIG_SIZE = 10, 12, 20\n",
    "plt.rc('font', size=MEDIUM_SIZE)       \n",
    "plt.rc('axes', titlesize=BIG_SIZE)     \n",
    "plt.rc('axes', labelsize=MEDIUM_SIZE)  \n",
    "plt.rc('xtick', labelsize=MEDIUM_SIZE) \n",
    "plt.rc('ytick', labelsize=MEDIUM_SIZE) \n",
    "plt.rc('legend', fontsize=SMALL_SIZE)  \n",
    "plt.rc('figure', titlesize=BIG_SIZE)\n",
    "my_colors = 'rgbkymc'\n",
    "\n",
    "# Disable scrolling for long output\n",
    "from IPython.display import display, Javascript\n",
    "disable_js = \"\"\"\n",
    "IPython.OutputArea.prototype._should_scroll = function(lines) {\n",
    "    return false;\n",
    "}\n",
    "\"\"\"\n",
    "display(Javascript(disable_js))\n",
    "\n",
    "np.random.seed(1)\n",
    "#print(os.listdir('../input'))"
   ]
  },
  {
   "cell_type": "code",
   "execution_count": 2,
   "metadata": {},
   "outputs": [
    {
     "data": {
      "text/html": [
       "<div>\n",
       "<style scoped>\n",
       "    .dataframe tbody tr th:only-of-type {\n",
       "        vertical-align: middle;\n",
       "    }\n",
       "\n",
       "    .dataframe tbody tr th {\n",
       "        vertical-align: top;\n",
       "    }\n",
       "\n",
       "    .dataframe thead th {\n",
       "        text-align: right;\n",
       "    }\n",
       "</style>\n",
       "<table border=\"1\" class=\"dataframe\">\n",
       "  <thead>\n",
       "    <tr style=\"text-align: right;\">\n",
       "      <th></th>\n",
       "      <th>Qualification</th>\n",
       "      <th>Experience</th>\n",
       "      <th>Rating</th>\n",
       "      <th>Place</th>\n",
       "      <th>Profile</th>\n",
       "      <th>Miscellaneous_Info</th>\n",
       "      <th>Fees</th>\n",
       "    </tr>\n",
       "  </thead>\n",
       "  <tbody>\n",
       "    <tr>\n",
       "      <th>0</th>\n",
       "      <td>BHMS, MD - Homeopathy</td>\n",
       "      <td>24 years experience</td>\n",
       "      <td>100%</td>\n",
       "      <td>Kakkanad, Ernakulam</td>\n",
       "      <td>Homeopath</td>\n",
       "      <td>100% 16 Feedback Kakkanad, Ernakulam</td>\n",
       "      <td>100</td>\n",
       "    </tr>\n",
       "    <tr>\n",
       "      <th>1</th>\n",
       "      <td>BAMS, MD - Ayurveda Medicine</td>\n",
       "      <td>12 years experience</td>\n",
       "      <td>98%</td>\n",
       "      <td>Whitefield, Bangalore</td>\n",
       "      <td>Ayurveda</td>\n",
       "      <td>98% 76 Feedback Whitefield, Bangalore</td>\n",
       "      <td>350</td>\n",
       "    </tr>\n",
       "    <tr>\n",
       "      <th>2</th>\n",
       "      <td>MBBS, MS - Otorhinolaryngology</td>\n",
       "      <td>9 years experience</td>\n",
       "      <td>NaN</td>\n",
       "      <td>Mathikere - BEL, Bangalore</td>\n",
       "      <td>ENT Specialist</td>\n",
       "      <td>NaN</td>\n",
       "      <td>300</td>\n",
       "    </tr>\n",
       "    <tr>\n",
       "      <th>3</th>\n",
       "      <td>BSc - Zoology, BAMS</td>\n",
       "      <td>12 years experience</td>\n",
       "      <td>NaN</td>\n",
       "      <td>Bannerghatta Road, Bangalore</td>\n",
       "      <td>Ayurveda</td>\n",
       "      <td>Bannerghatta Road, Bangalore ₹250 Available on...</td>\n",
       "      <td>250</td>\n",
       "    </tr>\n",
       "    <tr>\n",
       "      <th>4</th>\n",
       "      <td>BAMS</td>\n",
       "      <td>20 years experience</td>\n",
       "      <td>100%</td>\n",
       "      <td>Keelkattalai, Chennai</td>\n",
       "      <td>Ayurveda</td>\n",
       "      <td>100% 4 Feedback Keelkattalai, Chennai</td>\n",
       "      <td>250</td>\n",
       "    </tr>\n",
       "  </tbody>\n",
       "</table>\n",
       "</div>"
      ],
      "text/plain": [
       "                    Qualification           Experience Rating  \\\n",
       "0           BHMS, MD - Homeopathy  24 years experience   100%   \n",
       "1    BAMS, MD - Ayurveda Medicine  12 years experience    98%   \n",
       "2  MBBS, MS - Otorhinolaryngology   9 years experience    NaN   \n",
       "3             BSc - Zoology, BAMS  12 years experience    NaN   \n",
       "4                            BAMS  20 years experience   100%   \n",
       "\n",
       "                          Place         Profile  \\\n",
       "0           Kakkanad, Ernakulam       Homeopath   \n",
       "1         Whitefield, Bangalore        Ayurveda   \n",
       "2    Mathikere - BEL, Bangalore  ENT Specialist   \n",
       "3  Bannerghatta Road, Bangalore        Ayurveda   \n",
       "4         Keelkattalai, Chennai        Ayurveda   \n",
       "\n",
       "                                  Miscellaneous_Info  Fees  \n",
       "0               100% 16 Feedback Kakkanad, Ernakulam   100  \n",
       "1              98% 76 Feedback Whitefield, Bangalore   350  \n",
       "2                                                NaN   300  \n",
       "3  Bannerghatta Road, Bangalore ₹250 Available on...   250  \n",
       "4              100% 4 Feedback Keelkattalai, Chennai   250  "
      ]
     },
     "execution_count": 2,
     "metadata": {},
     "output_type": "execute_result"
    }
   ],
   "source": [
    "# Read the input training data\n",
    "input_data_dir = \"C:\\Study\\DataSets\\\\MachineHack-predict-a-doctors-consultation-fees\"\n",
    "train_data_file = \"Final_Train.xlsx\"\n",
    "train_data_path = os.path.join(input_data_dir, train_data_file)\n",
    "train_data = pd.read_excel(train_data_path)\n",
    "train_data.head(5)"
   ]
  },
  {
   "cell_type": "code",
   "execution_count": 3,
   "metadata": {},
   "outputs": [
    {
     "data": {
      "text/html": [
       "<div>\n",
       "<style scoped>\n",
       "    .dataframe tbody tr th:only-of-type {\n",
       "        vertical-align: middle;\n",
       "    }\n",
       "\n",
       "    .dataframe tbody tr th {\n",
       "        vertical-align: top;\n",
       "    }\n",
       "\n",
       "    .dataframe thead th {\n",
       "        text-align: right;\n",
       "    }\n",
       "</style>\n",
       "<table border=\"1\" class=\"dataframe\">\n",
       "  <thead>\n",
       "    <tr style=\"text-align: right;\">\n",
       "      <th></th>\n",
       "      <th>Qualification</th>\n",
       "      <th>Experience</th>\n",
       "      <th>Rating</th>\n",
       "      <th>Place</th>\n",
       "      <th>Profile</th>\n",
       "      <th>Miscellaneous_Info</th>\n",
       "    </tr>\n",
       "  </thead>\n",
       "  <tbody>\n",
       "    <tr>\n",
       "      <th>0</th>\n",
       "      <td>MBBS</td>\n",
       "      <td>35 years experience</td>\n",
       "      <td>NaN</td>\n",
       "      <td>Ghatkopar East, Mumbai</td>\n",
       "      <td>General Medicine</td>\n",
       "      <td>NaN</td>\n",
       "    </tr>\n",
       "    <tr>\n",
       "      <th>1</th>\n",
       "      <td>MBBS, Diploma in Otorhinolaryngology (DLO)</td>\n",
       "      <td>31 years experience</td>\n",
       "      <td>NaN</td>\n",
       "      <td>West Marredpally, Hyderabad</td>\n",
       "      <td>ENT Specialist</td>\n",
       "      <td>NaN</td>\n",
       "    </tr>\n",
       "    <tr>\n",
       "      <th>2</th>\n",
       "      <td>MBBS, DDVL</td>\n",
       "      <td>40 years experience</td>\n",
       "      <td>70%</td>\n",
       "      <td>KK Nagar, Chennai</td>\n",
       "      <td>Dermatologists</td>\n",
       "      <td>70% 4 Feedback KK Nagar, Chennai</td>\n",
       "    </tr>\n",
       "    <tr>\n",
       "      <th>3</th>\n",
       "      <td>BAMS</td>\n",
       "      <td>0 years experience</td>\n",
       "      <td>NaN</td>\n",
       "      <td>New Ashok Nagar, Delhi</td>\n",
       "      <td>Ayurveda</td>\n",
       "      <td>NaN</td>\n",
       "    </tr>\n",
       "    <tr>\n",
       "      <th>4</th>\n",
       "      <td>BDS, MDS - Conservative Dentistry &amp; Endodontics</td>\n",
       "      <td>16 years experience</td>\n",
       "      <td>100%</td>\n",
       "      <td>Kanakpura Road, Bangalore</td>\n",
       "      <td>Dentist</td>\n",
       "      <td>General Dentistry Conservative Dentistry Cosme...</td>\n",
       "    </tr>\n",
       "  </tbody>\n",
       "</table>\n",
       "</div>"
      ],
      "text/plain": [
       "                                     Qualification           Experience  \\\n",
       "0                                             MBBS  35 years experience   \n",
       "1       MBBS, Diploma in Otorhinolaryngology (DLO)  31 years experience   \n",
       "2                                       MBBS, DDVL  40 years experience   \n",
       "3                                             BAMS   0 years experience   \n",
       "4  BDS, MDS - Conservative Dentistry & Endodontics  16 years experience   \n",
       "\n",
       "  Rating                        Place           Profile  \\\n",
       "0    NaN       Ghatkopar East, Mumbai  General Medicine   \n",
       "1    NaN  West Marredpally, Hyderabad    ENT Specialist   \n",
       "2    70%            KK Nagar, Chennai    Dermatologists   \n",
       "3    NaN       New Ashok Nagar, Delhi          Ayurveda   \n",
       "4   100%    Kanakpura Road, Bangalore           Dentist   \n",
       "\n",
       "                                  Miscellaneous_Info  \n",
       "0                                                NaN  \n",
       "1                                                NaN  \n",
       "2                   70% 4 Feedback KK Nagar, Chennai  \n",
       "3                                                NaN  \n",
       "4  General Dentistry Conservative Dentistry Cosme...  "
      ]
     },
     "execution_count": 3,
     "metadata": {},
     "output_type": "execute_result"
    }
   ],
   "source": [
    "# Read the input test data\n",
    "input_data_dir = \"C:\\Study\\DataSets\\\\MachineHack-predict-a-doctors-consultation-fees\"\n",
    "test_data_file = \"Final_test.xlsx\"\n",
    "test_data_path = os.path.join(input_data_dir, test_data_file)\n",
    "test_data = pd.read_excel(test_data_path)\n",
    "test_data.head(5)"
   ]
  },
  {
   "cell_type": "code",
   "execution_count": 4,
   "metadata": {},
   "outputs": [
    {
     "data": {
      "text/plain": [
       "((5961, 7), (1987, 6))"
      ]
     },
     "execution_count": 4,
     "metadata": {},
     "output_type": "execute_result"
    }
   ],
   "source": [
    "train_data.shape, test_data.shape"
   ]
  },
  {
   "cell_type": "markdown",
   "metadata": {},
   "source": [
    "## Analyze Data"
   ]
  },
  {
   "cell_type": "code",
   "execution_count": 5,
   "metadata": {},
   "outputs": [
    {
     "name": "stdout",
     "output_type": "stream",
     "text": [
      "<class 'pandas.core.frame.DataFrame'>\n",
      "RangeIndex: 5961 entries, 0 to 5960\n",
      "Data columns (total 7 columns):\n",
      "Qualification         5961 non-null object\n",
      "Experience            5961 non-null object\n",
      "Rating                2659 non-null object\n",
      "Place                 5936 non-null object\n",
      "Profile               5961 non-null object\n",
      "Miscellaneous_Info    3341 non-null object\n",
      "Fees                  5961 non-null int64\n",
      "dtypes: int64(1), object(6)\n",
      "memory usage: 326.1+ KB\n"
     ]
    }
   ],
   "source": [
    "train_data.info()"
   ]
  },
  {
   "cell_type": "code",
   "execution_count": 6,
   "metadata": {},
   "outputs": [
    {
     "data": {
      "text/html": [
       "<div>\n",
       "<style scoped>\n",
       "    .dataframe tbody tr th:only-of-type {\n",
       "        vertical-align: middle;\n",
       "    }\n",
       "\n",
       "    .dataframe tbody tr th {\n",
       "        vertical-align: top;\n",
       "    }\n",
       "\n",
       "    .dataframe thead th {\n",
       "        text-align: right;\n",
       "    }\n",
       "</style>\n",
       "<table border=\"1\" class=\"dataframe\">\n",
       "  <thead>\n",
       "    <tr style=\"text-align: right;\">\n",
       "      <th></th>\n",
       "      <th>count</th>\n",
       "      <th>mean</th>\n",
       "      <th>std</th>\n",
       "      <th>min</th>\n",
       "      <th>25%</th>\n",
       "      <th>50%</th>\n",
       "      <th>75%</th>\n",
       "      <th>max</th>\n",
       "    </tr>\n",
       "  </thead>\n",
       "  <tbody>\n",
       "    <tr>\n",
       "      <th>Fees</th>\n",
       "      <td>5961.0</td>\n",
       "      <td>307.94464</td>\n",
       "      <td>190.920373</td>\n",
       "      <td>5.0</td>\n",
       "      <td>150.0</td>\n",
       "      <td>300.0</td>\n",
       "      <td>500.0</td>\n",
       "      <td>950.0</td>\n",
       "    </tr>\n",
       "  </tbody>\n",
       "</table>\n",
       "</div>"
      ],
      "text/plain": [
       "       count       mean         std  min    25%    50%    75%    max\n",
       "Fees  5961.0  307.94464  190.920373  5.0  150.0  300.0  500.0  950.0"
      ]
     },
     "execution_count": 6,
     "metadata": {},
     "output_type": "execute_result"
    }
   ],
   "source": [
    "train_data.describe().transpose()"
   ]
  },
  {
   "cell_type": "code",
   "execution_count": 7,
   "metadata": {},
   "outputs": [
    {
     "data": {
      "text/plain": [
       "Qualification            0\n",
       "Experience               0\n",
       "Rating                3302\n",
       "Place                   25\n",
       "Profile                  0\n",
       "Miscellaneous_Info    2620\n",
       "Fees                     0\n",
       "dtype: int64"
      ]
     },
     "execution_count": 7,
     "metadata": {},
     "output_type": "execute_result"
    }
   ],
   "source": [
    "# Missing data\n",
    "train_data.isna().sum()"
   ]
  },
  {
   "cell_type": "markdown",
   "metadata": {},
   "source": [
    "## Pre-process Data"
   ]
  },
  {
   "cell_type": "code",
   "execution_count": 8,
   "metadata": {},
   "outputs": [],
   "source": [
    "# Function to normalize text"
   ]
  },
  {
   "cell_type": "code",
   "execution_count": 9,
   "metadata": {},
   "outputs": [
    {
     "data": {
      "text/html": [
       "<div>\n",
       "<style scoped>\n",
       "    .dataframe tbody tr th:only-of-type {\n",
       "        vertical-align: middle;\n",
       "    }\n",
       "\n",
       "    .dataframe tbody tr th {\n",
       "        vertical-align: top;\n",
       "    }\n",
       "\n",
       "    .dataframe thead th {\n",
       "        text-align: right;\n",
       "    }\n",
       "</style>\n",
       "<table border=\"1\" class=\"dataframe\">\n",
       "  <thead>\n",
       "    <tr style=\"text-align: right;\">\n",
       "      <th></th>\n",
       "      <th>Qualification</th>\n",
       "      <th>Experience</th>\n",
       "      <th>Rating</th>\n",
       "      <th>Place</th>\n",
       "      <th>Profile</th>\n",
       "      <th>Miscellaneous_Info</th>\n",
       "      <th>Fees</th>\n",
       "      <th>Experience_Yrs</th>\n",
       "    </tr>\n",
       "  </thead>\n",
       "  <tbody>\n",
       "    <tr>\n",
       "      <th>0</th>\n",
       "      <td>BHMS, MD - Homeopathy</td>\n",
       "      <td>24 years experience</td>\n",
       "      <td>100%</td>\n",
       "      <td>Kakkanad, Ernakulam</td>\n",
       "      <td>Homeopath</td>\n",
       "      <td>100% 16 Feedback Kakkanad, Ernakulam</td>\n",
       "      <td>100</td>\n",
       "      <td>24</td>\n",
       "    </tr>\n",
       "    <tr>\n",
       "      <th>1</th>\n",
       "      <td>BAMS, MD - Ayurveda Medicine</td>\n",
       "      <td>12 years experience</td>\n",
       "      <td>98%</td>\n",
       "      <td>Whitefield, Bangalore</td>\n",
       "      <td>Ayurveda</td>\n",
       "      <td>98% 76 Feedback Whitefield, Bangalore</td>\n",
       "      <td>350</td>\n",
       "      <td>12</td>\n",
       "    </tr>\n",
       "    <tr>\n",
       "      <th>2</th>\n",
       "      <td>MBBS, MS - Otorhinolaryngology</td>\n",
       "      <td>9 years experience</td>\n",
       "      <td>NaN</td>\n",
       "      <td>Mathikere - BEL, Bangalore</td>\n",
       "      <td>ENT Specialist</td>\n",
       "      <td>NaN</td>\n",
       "      <td>300</td>\n",
       "      <td>9</td>\n",
       "    </tr>\n",
       "    <tr>\n",
       "      <th>3</th>\n",
       "      <td>BSc - Zoology, BAMS</td>\n",
       "      <td>12 years experience</td>\n",
       "      <td>NaN</td>\n",
       "      <td>Bannerghatta Road, Bangalore</td>\n",
       "      <td>Ayurveda</td>\n",
       "      <td>Bannerghatta Road, Bangalore ₹250 Available on...</td>\n",
       "      <td>250</td>\n",
       "      <td>12</td>\n",
       "    </tr>\n",
       "    <tr>\n",
       "      <th>4</th>\n",
       "      <td>BAMS</td>\n",
       "      <td>20 years experience</td>\n",
       "      <td>100%</td>\n",
       "      <td>Keelkattalai, Chennai</td>\n",
       "      <td>Ayurveda</td>\n",
       "      <td>100% 4 Feedback Keelkattalai, Chennai</td>\n",
       "      <td>250</td>\n",
       "      <td>20</td>\n",
       "    </tr>\n",
       "  </tbody>\n",
       "</table>\n",
       "</div>"
      ],
      "text/plain": [
       "                    Qualification           Experience Rating  \\\n",
       "0           BHMS, MD - Homeopathy  24 years experience   100%   \n",
       "1    BAMS, MD - Ayurveda Medicine  12 years experience    98%   \n",
       "2  MBBS, MS - Otorhinolaryngology   9 years experience    NaN   \n",
       "3             BSc - Zoology, BAMS  12 years experience    NaN   \n",
       "4                            BAMS  20 years experience   100%   \n",
       "\n",
       "                          Place         Profile  \\\n",
       "0           Kakkanad, Ernakulam       Homeopath   \n",
       "1         Whitefield, Bangalore        Ayurveda   \n",
       "2    Mathikere - BEL, Bangalore  ENT Specialist   \n",
       "3  Bannerghatta Road, Bangalore        Ayurveda   \n",
       "4         Keelkattalai, Chennai        Ayurveda   \n",
       "\n",
       "                                  Miscellaneous_Info  Fees  Experience_Yrs  \n",
       "0               100% 16 Feedback Kakkanad, Ernakulam   100              24  \n",
       "1              98% 76 Feedback Whitefield, Bangalore   350              12  \n",
       "2                                                NaN   300               9  \n",
       "3  Bannerghatta Road, Bangalore ₹250 Available on...   250              12  \n",
       "4              100% 4 Feedback Keelkattalai, Chennai   250              20  "
      ]
     },
     "execution_count": 9,
     "metadata": {},
     "output_type": "execute_result"
    }
   ],
   "source": [
    "## Experience\n",
    "#train_data['Experience'] = train_data.Experience.str.split(' ').str[0]\n",
    "train_data['Experience_Yrs'] = train_data.Experience.map(lambda x : re.search('\\d+', x).group())\n",
    "train_data['Experience_Yrs'] = pd.to_numeric(train_data['Experience_Yrs'])\n",
    "train_data.head()"
   ]
  },
  {
   "cell_type": "code",
   "execution_count": 10,
   "metadata": {},
   "outputs": [
    {
     "data": {
      "text/html": [
       "<div>\n",
       "<style scoped>\n",
       "    .dataframe tbody tr th:only-of-type {\n",
       "        vertical-align: middle;\n",
       "    }\n",
       "\n",
       "    .dataframe tbody tr th {\n",
       "        vertical-align: top;\n",
       "    }\n",
       "\n",
       "    .dataframe thead th {\n",
       "        text-align: right;\n",
       "    }\n",
       "</style>\n",
       "<table border=\"1\" class=\"dataframe\">\n",
       "  <thead>\n",
       "    <tr style=\"text-align: right;\">\n",
       "      <th></th>\n",
       "      <th>Qualification</th>\n",
       "      <th>Experience</th>\n",
       "      <th>Rating</th>\n",
       "      <th>Place</th>\n",
       "      <th>Profile</th>\n",
       "      <th>Miscellaneous_Info</th>\n",
       "      <th>Experience_Yrs</th>\n",
       "    </tr>\n",
       "  </thead>\n",
       "  <tbody>\n",
       "    <tr>\n",
       "      <th>0</th>\n",
       "      <td>MBBS</td>\n",
       "      <td>35 years experience</td>\n",
       "      <td>NaN</td>\n",
       "      <td>Ghatkopar East, Mumbai</td>\n",
       "      <td>General Medicine</td>\n",
       "      <td>NaN</td>\n",
       "      <td>35</td>\n",
       "    </tr>\n",
       "    <tr>\n",
       "      <th>1</th>\n",
       "      <td>MBBS, Diploma in Otorhinolaryngology (DLO)</td>\n",
       "      <td>31 years experience</td>\n",
       "      <td>NaN</td>\n",
       "      <td>West Marredpally, Hyderabad</td>\n",
       "      <td>ENT Specialist</td>\n",
       "      <td>NaN</td>\n",
       "      <td>31</td>\n",
       "    </tr>\n",
       "    <tr>\n",
       "      <th>2</th>\n",
       "      <td>MBBS, DDVL</td>\n",
       "      <td>40 years experience</td>\n",
       "      <td>70%</td>\n",
       "      <td>KK Nagar, Chennai</td>\n",
       "      <td>Dermatologists</td>\n",
       "      <td>70% 4 Feedback KK Nagar, Chennai</td>\n",
       "      <td>40</td>\n",
       "    </tr>\n",
       "    <tr>\n",
       "      <th>3</th>\n",
       "      <td>BAMS</td>\n",
       "      <td>0 years experience</td>\n",
       "      <td>NaN</td>\n",
       "      <td>New Ashok Nagar, Delhi</td>\n",
       "      <td>Ayurveda</td>\n",
       "      <td>NaN</td>\n",
       "      <td>0</td>\n",
       "    </tr>\n",
       "    <tr>\n",
       "      <th>4</th>\n",
       "      <td>BDS, MDS - Conservative Dentistry &amp; Endodontics</td>\n",
       "      <td>16 years experience</td>\n",
       "      <td>100%</td>\n",
       "      <td>Kanakpura Road, Bangalore</td>\n",
       "      <td>Dentist</td>\n",
       "      <td>General Dentistry Conservative Dentistry Cosme...</td>\n",
       "      <td>16</td>\n",
       "    </tr>\n",
       "  </tbody>\n",
       "</table>\n",
       "</div>"
      ],
      "text/plain": [
       "                                     Qualification           Experience  \\\n",
       "0                                             MBBS  35 years experience   \n",
       "1       MBBS, Diploma in Otorhinolaryngology (DLO)  31 years experience   \n",
       "2                                       MBBS, DDVL  40 years experience   \n",
       "3                                             BAMS   0 years experience   \n",
       "4  BDS, MDS - Conservative Dentistry & Endodontics  16 years experience   \n",
       "\n",
       "  Rating                        Place           Profile  \\\n",
       "0    NaN       Ghatkopar East, Mumbai  General Medicine   \n",
       "1    NaN  West Marredpally, Hyderabad    ENT Specialist   \n",
       "2    70%            KK Nagar, Chennai    Dermatologists   \n",
       "3    NaN       New Ashok Nagar, Delhi          Ayurveda   \n",
       "4   100%    Kanakpura Road, Bangalore           Dentist   \n",
       "\n",
       "                                  Miscellaneous_Info  Experience_Yrs  \n",
       "0                                                NaN              35  \n",
       "1                                                NaN              31  \n",
       "2                   70% 4 Feedback KK Nagar, Chennai              40  \n",
       "3                                                NaN               0  \n",
       "4  General Dentistry Conservative Dentistry Cosme...              16  "
      ]
     },
     "execution_count": 10,
     "metadata": {},
     "output_type": "execute_result"
    }
   ],
   "source": [
    "## Experience\n",
    "#train_data['Experience'] = train_data.Experience.str.split(' ').str[0]\n",
    "test_data['Experience_Yrs'] = test_data.Experience.map(lambda x : re.search('\\d+', x).group())\n",
    "test_data['Experience_Yrs'] = pd.to_numeric(test_data['Experience_Yrs'])\n",
    "test_data.head()"
   ]
  },
  {
   "cell_type": "code",
   "execution_count": 11,
   "metadata": {},
   "outputs": [
    {
     "data": {
      "text/plain": [
       "Dentist             1397\n",
       "General Medicine    1173\n",
       "Dermatologists      1034\n",
       "Homeopath            843\n",
       "Ayurveda             786\n",
       "ENT Specialist       728\n",
       "Name: Profile, dtype: int64"
      ]
     },
     "execution_count": 11,
     "metadata": {},
     "output_type": "execute_result"
    }
   ],
   "source": [
    "## Profile\n",
    "train_data.Profile.value_counts()"
   ]
  },
  {
   "cell_type": "code",
   "execution_count": 12,
   "metadata": {},
   "outputs": [
    {
     "data": {
      "text/plain": [
       "array(['bhms', 'bams', 'mbbs', 'bsc', 'bds', 'mds', 'diploma', 'dm', 'md',\n",
       "       'mdsoral', 'get', 'phd', 'mrcps', 'ms', 'ddvl', 'dhms', 'gceh',\n",
       "       'post', 'dnb', 'certification', 'fellowship', 'fage', 'bsam',\n",
       "       'fnb', 'certificate', 'certified', '39', 'lceh', 'doctor',\n",
       "       'diplomate', 'msc', 'advanced', 'fcps', 'gams', 'bums', 'mba',\n",
       "       'training', 'pg', 'mch', 'ddv', 'bems', 'mrcs', 'ma', 'mph',\n",
       "       'graduate', 'mrcpch', 'frcs', 'bac', 'bims', 'dvd', 'ayurvedic',\n",
       "       'dhm', 'member', 'mrcgp', 'mrcp', 'cgo', 'pgd', 'dnhe',\n",
       "       'doctorate', 'frguhs', 'm', 'frcp', 'cochlear', 'masters', 'pdcc',\n",
       "       'ffdrcsi', 'mddvl', 'dgo'], dtype=object)"
      ]
     },
     "execution_count": 12,
     "metadata": {},
     "output_type": "execute_result"
    }
   ],
   "source": [
    "## Qualification\n",
    "train_data['Qualification_1'] = train_data.Qualification.map(lambda x : re.split(',', x)[0]).str.strip()\n",
    "train_data['Qualification_1'] = train_data['Qualification_1'].str.split(' ').str[0].str.replace(\"[^a-zA-Z0-9]+\",'').str.lower()\n",
    "(train_data.Qualification_1.unique())"
   ]
  },
  {
   "cell_type": "code",
   "execution_count": 13,
   "metadata": {},
   "outputs": [
    {
     "data": {
      "text/plain": [
       "array(['mbbs', 'bams', 'bds', 'md', 'bhms', 'ms', 'bsc', 'fellowship',\n",
       "       'mds', 'lceh', 'dm', 'post', 'certificate', 'dvd', 'ddvl', 'dnb',\n",
       "       'doctor', 'dhms', 'frcp', 'diploma', 'bsam', 'get', 'do', 'frcs',\n",
       "       'fwfo', 'dms', 'mddvl', 'bpthbpt', 'fams', 'phd', 'ficd', 'dehm',\n",
       "       'mrcgp', 'fpfa', 'mrcs', 'mrcp', 'certification', 'dpm'],\n",
       "      dtype=object)"
      ]
     },
     "execution_count": 13,
     "metadata": {},
     "output_type": "execute_result"
    }
   ],
   "source": [
    "test_data['Qualification_1'] = test_data.Qualification.map(lambda x : re.split(',', x)[0]).str.strip()\n",
    "test_data['Qualification_1'] = test_data['Qualification_1'].str.split(' ').str[0].str.replace(\"[^a-zA-Z0-9]+\",'').str.lower()\n",
    "#test_data.Qualification_1.value_counts().tail(5)\n",
    "test_data.Qualification_1.unique()"
   ]
  },
  {
   "cell_type": "code",
   "execution_count": 14,
   "metadata": {},
   "outputs": [
    {
     "data": {
      "text/plain": [
       "9"
      ]
     },
     "execution_count": 14,
     "metadata": {},
     "output_type": "execute_result"
    }
   ],
   "source": [
    "test_data[~test_data.Qualification_1.isin(train_data.Qualification_1.unique())]['Qualification_1'].count()"
   ]
  },
  {
   "cell_type": "code",
   "execution_count": 15,
   "metadata": {},
   "outputs": [
    {
     "data": {
      "text/plain": [
       "array(['md', 'ms', 'bams', 'noqual', 'bds', 'mds', 'diploma', 'mf', 'dnb',\n",
       "       'fellowship', 'ddvl', 'ibclc', 'mbbs', 'afih', 'm', 'dhms',\n",
       "       'member', 'certificate', 'ddv', 'venereology', 'post', 'pgd',\n",
       "       'morth', 'frcp', 'pg', 'msc', 'certification', 'mrcpch', 'frguhs',\n",
       "       'mfds', 'dgo', 'dvd', 'bhms', 'phd', 'dm', 'mrcgp', 'postgraduate',\n",
       "       'dpm', 'fage', 'division', 'fcps', 'masters', 'mcpuclausa', 'mrcp',\n",
       "       'mba', 'dorl', 'ayurvedic', 'pghomlondon', 'cgo', 'do', 'mcip',\n",
       "       'mdsoral', 'fcah', 'bpthbpt', 'pgnahi', 'ficd', 'bnys', 'dlo',\n",
       "       'bsc', 'one', 'vd', 'fellow', 'mmed', 'diachgreece', 'mnams',\n",
       "       'mrcs', 'comprehensive', 'pgcad', 'dya', 'mrcps', 'dnhe', 'pgcr',\n",
       "       'certified', 'pgdhhm', 'mch', 'advanced', 'master', 'fcip', 'fcd',\n",
       "       'dems', 'ma', 'lceh', 'ccedm', 'ccebdm', 'singapore', 'dortho',\n",
       "       'basic', 'advance', 'pgde', 'bems', 'facc', 'fams', 'fsrh',\n",
       "       'mfgdp', 'invisalign', 'pcad', 'frcs', 'pgdha', 'distance', 'dmd',\n",
       "       'pgdmls', 'fccp', 'uk', 'mhscdiabetology', 'doctor', 'pgmha',\n",
       "       'indian', 'dysc', 'yoga', 'fpfa', 'pgdpc', 'mbs', 'frhs',\n",
       "       'fundamental', 'dd', 'dsm', 'dac', 'pgceendodontics', 'dih',\n",
       "       'diplomate', 'robert', 'ficoi', 'mph', 'mdayurvedic', 'frcsed',\n",
       "       'mcem', 'dfm', 'datdiploma', 'nutrition', 'fiams', 'dtcddiploma',\n",
       "       'fds'], dtype=object)"
      ]
     },
     "execution_count": 15,
     "metadata": {},
     "output_type": "execute_result"
    }
   ],
   "source": [
    "## Qualification\n",
    "train_data['Qualification_2'] = train_data.Qualification.map(lambda x : re.split(',', x)[1] if x.count(',')>0 else 'NO_QUAL').str.strip()\n",
    "train_data['Qualification_2'] = train_data['Qualification_2'].str.split(' ').str[0].str.strip().str.replace(\"[^a-zA-Z0-9]+\",'').str.lower()\n",
    "train_data.Qualification_2.unique()"
   ]
  },
  {
   "cell_type": "code",
   "execution_count": 16,
   "metadata": {},
   "outputs": [
    {
     "data": {
      "text/plain": [
       "array(['noqual', 'diploma', 'ddvl', 'mds', 'bams', 'fcd', 'ddv', 'md',\n",
       "       'pg', 'mbbs', 'ms', 'phd', 'lceh', 'dgo', 'dm', 'dnb',\n",
       "       'fellowship', 'bds', 'pgcr', 'frcs', 'postgraduate', 'mrcoguk',\n",
       "       'fellow', 'yoga', 'pgdpc', 'pgd', 'mba', 'membership', 'pgdhhm',\n",
       "       'mnams', 'certificate', 'doctor', 'venereology', 'post',\n",
       "       'advanced', 'ficd', 'mrcps', 'dvd', 'dhms', 'ph', 'bhms', 'csd',\n",
       "       'mch', 'fica', 'facc', 'fpfa', 'dlo', 'msc', 'implant', 'dnhe',\n",
       "       'm', 'masters', 'mdsoral', 'pgdha', 'certification', 'dorl',\n",
       "       'bsam', 'bsc', 'cgo', 'professional', 'frcp', 'dd', 'master',\n",
       "       'doms', 'mmed', 'mrcgp', 'pgcad', 'fcps', 'panchkarma', 'dpm',\n",
       "       'mdayurvedic', 'afih', 'dvl', 'mphil', 'bems', 'dph', 'graduate',\n",
       "       'fdiab', 'fccp', 'pgdhsc', 'dpharm'], dtype=object)"
      ]
     },
     "execution_count": 16,
     "metadata": {},
     "output_type": "execute_result"
    }
   ],
   "source": [
    "## Qualification\n",
    "test_data['Qualification_2'] = test_data.Qualification.map(lambda x : re.split(',', x)[1] if x.count(',')>0 else 'NO_QUAL').str.strip()\n",
    "test_data['Qualification_2'] = test_data['Qualification_2'].str.split(' ').str[0].str.strip().str.replace(\"[^a-zA-Z0-9]+\",'').str.lower()\n",
    "test_data.Qualification_2.unique()"
   ]
  },
  {
   "cell_type": "code",
   "execution_count": 17,
   "metadata": {},
   "outputs": [
    {
     "data": {
      "text/plain": [
       "18"
      ]
     },
     "execution_count": 17,
     "metadata": {},
     "output_type": "execute_result"
    }
   ],
   "source": [
    "test_data[~test_data.Qualification_2.isin(train_data.Qualification_2.unique())]['Qualification_2'].count()"
   ]
  },
  {
   "cell_type": "code",
   "execution_count": 18,
   "metadata": {},
   "outputs": [
    {
     "data": {
      "text/plain": [
       "2     2628\n",
       "1     1962\n",
       "3      995\n",
       "4      257\n",
       "5       84\n",
       "6       23\n",
       "7        6\n",
       "9        3\n",
       "8        2\n",
       "10       1\n",
       "Name: Qualification_Total, dtype: int64"
      ]
     },
     "execution_count": 18,
     "metadata": {},
     "output_type": "execute_result"
    }
   ],
   "source": [
    "## Numer of Qualification (Degrees)\n",
    "train_data['Qualification_Total'] = train_data.Qualification.map(lambda x : x.count(',')+1)\n",
    "train_data.Qualification_Total.value_counts()"
   ]
  },
  {
   "cell_type": "code",
   "execution_count": 19,
   "metadata": {},
   "outputs": [
    {
     "data": {
      "text/plain": [
       "2     889\n",
       "1     609\n",
       "3     366\n",
       "4      87\n",
       "5      28\n",
       "6       5\n",
       "17      1\n",
       "9       1\n",
       "7       1\n",
       "Name: Qualification_Total, dtype: int64"
      ]
     },
     "execution_count": 19,
     "metadata": {},
     "output_type": "execute_result"
    }
   ],
   "source": [
    "## Numer of Qualification (Degrees)\n",
    "test_data['Qualification_Total'] = test_data.Qualification.map(lambda x : x.count(',')+1)\n",
    "test_data.Qualification_Total.value_counts()"
   ]
  },
  {
   "cell_type": "code",
   "execution_count": 20,
   "metadata": {},
   "outputs": [
    {
     "data": {
      "text/plain": [
       "hsrlayout       75\n",
       "andheriwest     70\n",
       "dwarka          68\n",
       "banjarahills    64\n",
       "mulundwest      54\n",
       "Name: Town, dtype: int64"
      ]
     },
     "execution_count": 20,
     "metadata": {},
     "output_type": "execute_result"
    }
   ],
   "source": [
    "# Place\n",
    "train_data['Town'] = train_data.Place.str.split(',').str[0].str.strip(' ').str.replace(\"[^a-zA-Z0-9]+\",'').str.lower()\n",
    "train_data['Town'].value_counts().head()"
   ]
  },
  {
   "cell_type": "code",
   "execution_count": 21,
   "metadata": {},
   "outputs": [
    {
     "data": {
      "text/plain": [
       "mulundwest     27\n",
       "andheriwest    27\n",
       "dwarka         26\n",
       "whitefield     23\n",
       "hsrlayout      22\n",
       "Name: Town, dtype: int64"
      ]
     },
     "execution_count": 21,
     "metadata": {},
     "output_type": "execute_result"
    }
   ],
   "source": [
    "# Place\n",
    "test_data['Town'] = test_data.Place.str.split(',').str[0].str.strip(' ').str.replace(\"[^a-zA-Z0-9]+\",'').str.lower()\n",
    "test_data['Town'].value_counts().head()"
   ]
  },
  {
   "cell_type": "code",
   "execution_count": 22,
   "metadata": {},
   "outputs": [
    {
     "data": {
      "text/plain": [
       "83"
      ]
     },
     "execution_count": 22,
     "metadata": {},
     "output_type": "execute_result"
    }
   ],
   "source": [
    "test_data[~test_data.Town.isin(train_data.Town.unique())]['Town'].count()"
   ]
  },
  {
   "cell_type": "code",
   "execution_count": 23,
   "metadata": {},
   "outputs": [
    {
     "data": {
      "text/plain": [
       "bangalore    1258\n",
       "mumbai       1219\n",
       "delhi        1184\n",
       "hyderabad     951\n",
       "chennai       855\n",
       "Name: City, dtype: int64"
      ]
     },
     "execution_count": 23,
     "metadata": {},
     "output_type": "execute_result"
    }
   ],
   "source": [
    "# Place\n",
    "train_data['City'] = train_data.Place.str.split(',').str[1].str.strip().str.replace(\"[^a-zA-Z0-9]+\",'').str.lower()\n",
    "train_data['City'].value_counts().head()"
   ]
  },
  {
   "cell_type": "code",
   "execution_count": 24,
   "metadata": {},
   "outputs": [
    {
     "data": {
      "text/plain": [
       "bangalore    420\n",
       "delhi        417\n",
       "mumbai       389\n",
       "hyderabad    333\n",
       "chennai      287\n",
       "Name: City, dtype: int64"
      ]
     },
     "execution_count": 24,
     "metadata": {},
     "output_type": "execute_result"
    }
   ],
   "source": [
    "# Place\n",
    "test_data['City'] = test_data.Place.str.split(',').str[1].str.strip().str.replace(\"[^a-zA-Z0-9]+\",'').str.lower()\n",
    "test_data['City'].value_counts().head()"
   ]
  },
  {
   "cell_type": "code",
   "execution_count": 25,
   "metadata": {},
   "outputs": [
    {
     "data": {
      "text/plain": [
       "0"
      ]
     },
     "execution_count": 25,
     "metadata": {},
     "output_type": "execute_result"
    }
   ],
   "source": [
    "test_data[~test_data.City.isin(train_data.City.unique())]['City'].count()"
   ]
  },
  {
   "cell_type": "code",
   "execution_count": 26,
   "metadata": {},
   "outputs": [
    {
     "data": {
      "image/png": "[encoded data removed]",
      "text/plain": [
       "<Figure size 432x288 with 1 Axes>"
      ]
     },
     "metadata": {
      "needs_background": "light"
     },
     "output_type": "display_data"
    }
   ],
   "source": [
    "# Rating\n",
    "train_data['Rating_Present'] = train_data[\"Rating\"].notnull().astype('int')\n",
    "test_data['Rating_Present'] = test_data[\"Rating\"].notnull().astype('int')\n",
    "\n",
    "train_data['Rating_Val'] = train_data.Rating.str.strip('%')\n",
    "train_data['Rating_Val'] = pd.to_numeric(train_data['Rating_Val'])\n",
    "train_rating_mean = train_data['Rating_Val'].mean()\n",
    "train_data['Rating_Val'] = train_data['Rating_Val'].fillna(train_rating_mean)\n",
    "train_data['Rating_Val'].hist(bins=50)\n",
    "plt.show()"
   ]
  },
  {
   "cell_type": "code",
   "execution_count": 27,
   "metadata": {},
   "outputs": [
    {
     "data": {
      "image/png": "[encoded data removed]",
      "text/plain": [
       "<Figure size 432x288 with 1 Axes>"
      ]
     },
     "metadata": {
      "needs_background": "light"
     },
     "output_type": "display_data"
    }
   ],
   "source": [
    "# Rating\n",
    "test_data['Rating_Val'] = test_data.Rating.str.strip('%')\n",
    "test_data['Rating_Val'] = pd.to_numeric(test_data['Rating_Val'])\n",
    "test_data['Rating_Val'] = test_data['Rating_Val'].fillna(train_rating_mean)\n",
    "test_data['Rating_Val'].hist(bins=50)\n",
    "plt.show()"
   ]
  },
  {
   "cell_type": "code",
   "execution_count": 38,
   "metadata": {},
   "outputs": [],
   "source": [
    "# Normalize ratings\n",
    "train_data['Rating_Val'] = train_data['Rating_Val']/100\n",
    "test_data['Rating_Val'] = test_data['Rating_Val']/100"
   ]
  },
  {
   "cell_type": "code",
   "execution_count": 29,
   "metadata": {},
   "outputs": [
    {
     "data": {
      "image/png": "[encoded data removed]",
      "text/plain": [
       "<Figure size 432x288 with 1 Axes>"
      ]
     },
     "metadata": {
      "needs_background": "light"
     },
     "output_type": "display_data"
    }
   ],
   "source": [
    "sns.distplot(train_data['Fees'])\n",
    "plt.show()"
   ]
  },
  {
   "cell_type": "code",
   "execution_count": 39,
   "metadata": {},
   "outputs": [
    {
     "data": {
      "image/png": "[encoded data removed]",
      "text/plain": [
       "<Figure size 432x288 with 1 Axes>"
      ]
     },
     "metadata": {
      "needs_background": "light"
     },
     "output_type": "display_data"
    }
   ],
   "source": [
    "train_data['Fees_Log'] = np.log(train_data['Fees'])\n",
    "sns.distplot(train_data['Fees_Log'])\n",
    "plt.show()"
   ]
  },
  {
   "cell_type": "markdown",
   "metadata": {},
   "source": [
    "## Build Model"
   ]
  },
  {
   "cell_type": "code",
   "execution_count": 40,
   "metadata": {},
   "outputs": [],
   "source": [
    "features_1 = ['Experience_Yrs', 'Qualification_Total', 'Rating_Present']\n",
    "features_2 = ['City', 'Profile', 'Qualification_1', 'Qualification_2', 'Town']\n",
    "features_X = features_1 + features_2"
   ]
  },
  {
   "cell_type": "code",
   "execution_count": 41,
   "metadata": {},
   "outputs": [
    {
     "data": {
      "text/plain": [
       "((5961, 1176), (1987, 1176))"
      ]
     },
     "execution_count": 41,
     "metadata": {},
     "output_type": "execute_result"
    }
   ],
   "source": [
    "#train_data_2 = pd.get_dummies((train_data[features_2]).astype(str))\n",
    "# Concat with keys then get dummies\n",
    "temp = pd.get_dummies(pd.concat([train_data[features_2], test_data[features_2]],keys=[0,1]), columns=features_2)\n",
    "\n",
    "# Selecting data from multi index and assigning them i.e\n",
    "train_data_2, test_data_2 = temp.xs(0),temp.xs(1)\n",
    "train_data_2.shape, test_data_2.shape"
   ]
  },
  {
   "cell_type": "code",
   "execution_count": 42,
   "metadata": {},
   "outputs": [],
   "source": [
    "# Add multi-degree polynomials. THIS IS NOT USED IN MODEL\n",
    "from sklearn.preprocessing import PolynomialFeatures\n",
    "poly = PolynomialFeatures(degree=10)\n",
    "train_data_3 = poly.fit_transform(train_data[features_1])\n",
    "train_data_3 = pd.DataFrame.from_records(train_data_3)"
   ]
  },
  {
   "cell_type": "code",
   "execution_count": 43,
   "metadata": {},
   "outputs": [
    {
     "data": {
      "text/plain": [
       "(5961, 1179)"
      ]
     },
     "execution_count": 43,
     "metadata": {},
     "output_type": "execute_result"
    }
   ],
   "source": [
    "train_X = pd.concat([train_data[features_1], train_data_2], axis=1)\n",
    "train_X.shape"
   ]
  },
  {
   "cell_type": "code",
   "execution_count": 44,
   "metadata": {},
   "outputs": [
    {
     "data": {
      "text/plain": [
       "(5961,)"
      ]
     },
     "execution_count": 44,
     "metadata": {},
     "output_type": "execute_result"
    }
   ],
   "source": [
    "train_y = train_data['Fees_Log']\n",
    "train_y.shape"
   ]
  },
  {
   "cell_type": "code",
   "execution_count": 45,
   "metadata": {},
   "outputs": [
    {
     "data": {
      "text/plain": [
       "(1987, 1179)"
      ]
     },
     "execution_count": 45,
     "metadata": {},
     "output_type": "execute_result"
    }
   ],
   "source": [
    "test_X = pd.concat([test_data[features_1], test_data_2], axis=1)\n",
    "test_X.shape"
   ]
  },
  {
   "cell_type": "markdown",
   "metadata": {},
   "source": [
    "## Train Algorithms"
   ]
  },
  {
   "cell_type": "code",
   "execution_count": 46,
   "metadata": {},
   "outputs": [],
   "source": [
    "def rmsle_score(y, y0):\n",
    "    return (1 - np.sqrt(np.mean(np.square(np.log(y) - np.log(y0)))))"
   ]
  },
  {
   "cell_type": "code",
   "execution_count": 47,
   "metadata": {},
   "outputs": [
    {
     "data": {
      "text/plain": [
       "0.9003070981445612"
      ]
     },
     "execution_count": 47,
     "metadata": {},
     "output_type": "execute_result"
    }
   ],
   "source": [
    "from sklearn.metrics import mean_squared_error\n",
    "from sklearn.metrics import mean_squared_log_error\n",
    "from sklearn.linear_model import LinearRegression\n",
    "\n",
    "lin_reg = LinearRegression()\n",
    "lin_reg.fit(train_X, train_y)\n",
    "predictions = lin_reg.predict(train_X)\n",
    "lin_score = rmsle_score(train_y, predictions)\n",
    "lin_score"
   ]
  },
  {
   "cell_type": "code",
   "execution_count": 48,
   "metadata": {},
   "outputs": [],
   "source": [
    "from sklearn.linear_model import LinearRegression\n",
    "lin_reg = LinearRegression()\n",
    "\n",
    "from sklearn.linear_model import Lasso\n",
    "lasso = Lasso()\n",
    "\n",
    "from sklearn.linear_model import ElasticNet\n",
    "ela_net = ElasticNet()\n",
    "\n",
    "from sklearn.linear_model import Ridge\n",
    "ridge = Ridge()\n",
    "\n",
    "from sklearn.tree import DecisionTreeRegressor\n",
    "tree = DecisionTreeRegressor(splitter='random', max_features='auto')\n",
    "\n",
    "from sklearn.ensemble import RandomForestRegressor\n",
    "forest = RandomForestRegressor(n_estimators=100)\n",
    "\n",
    "from sklearn.svm import SVR\n",
    "svr_rbf = SVR(kernel='rbf')\n",
    "\n",
    "from sklearn.svm import SVR\n",
    "svr_lin = SVR(kernel='linear')\n",
    "\n",
    "from sklearn.ensemble import GradientBoostingRegressor\n",
    "gbr = GradientBoostingRegressor(learning_rate=0.5, n_estimators=500, max_depth=11, loss='huber')\n",
    "\n",
    "from sklearn.neural_network import MLPRegressor\n",
    "mlp_reg = MLPRegressor()\n",
    "\n",
    "from sklearn.neighbors import KNeighborsRegressor\n",
    "knn_reg = KNeighborsRegressor(n_neighbors=50, weights='distance', p=1)"
   ]
  },
  {
   "cell_type": "code",
   "execution_count": 49,
   "metadata": {},
   "outputs": [
    {
     "name": "stdout",
     "output_type": "stream",
     "text": [
      "DecisionTreeRegressor : 0.9917734992902766\n",
      "RandomForestRegressor : 0.9632213362569664\n",
      "KNeighborsRegressor : 0.9917734992902766\n",
      "SVR : 0.9015348187127576\n",
      "GradientBoostingRegressor : 0.9855149134093211\n"
     ]
    }
   ],
   "source": [
    "model_name, model_score = [], []\n",
    "models = [tree, forest, knn_reg, svr_rbf, gbr]\n",
    "for _reg_model in models:\n",
    "    _reg_model.fit(train_X, train_y)\n",
    "    predictions = _reg_model.predict(train_X)\n",
    "    #score = rmsle_score(train_y, predictions)\n",
    "    #score = np.sqrt(mean_squared_error(train_y, predictions))\n",
    "    score = 1 - np.sqrt(mean_squared_log_error(train_y, predictions))\n",
    "    print(_reg_model.__class__.__name__,  \":\", score)\n",
    "    model_name.append(_reg_model.__class__.__name__)\n",
    "    model_score.append(score)"
   ]
  },
  {
   "cell_type": "code",
   "execution_count": 38,
   "metadata": {},
   "outputs": [
    {
     "name": "stdout",
     "output_type": "stream",
     "text": [
      "grid_search.best_params_ = {'n_neighbors': 50, 'p': 1, 'weights': 'distance'}\n",
      "grid_search.best_score_ = 0.36259457401032935\n"
     ]
    }
   ],
   "source": [
    "# GridSearchCV to find optimal parameters on KNeighborsRegressor\n",
    "from sklearn.model_selection import GridSearchCV\n",
    "\n",
    "param_grid = [{'weights' : ['uniform', 'distance'], 'n_neighbors' : [2,3,5,10,30,50,100,150],\n",
    "               'p' : [1,2]\n",
    "              }]\n",
    "\n",
    "reg = KNeighborsRegressor()\n",
    "grid_search = GridSearchCV(reg, param_grid, cv=3, n_jobs=-1, scoring='neg_mean_squared_log_error')\n",
    "grid_search.fit(train_X, train_y)\n",
    "\n",
    "print(\"grid_search.best_params_ =\", grid_search.best_params_)\n",
    "print(\"grid_search.best_score_ =\", 1 - np.sqrt(-1*grid_search.best_score_))"
   ]
  },
  {
   "cell_type": "code",
   "execution_count": 39,
   "metadata": {},
   "outputs": [
    {
     "name": "stdout",
     "output_type": "stream",
     "text": [
      "grid_search.best_params_ = {'max_features': 'auto', 'splitter': 'random'}\n",
      "grid_search.best_score_ = 0.2352178418968578\n"
     ]
    }
   ],
   "source": [
    "# GridSearchCV to find optimal parameters on DecisionTreeRegressor\n",
    "from sklearn.model_selection import GridSearchCV\n",
    "\n",
    "param_grid = [{'splitter' : ['best', 'random'], 'max_features' : ['auto', 'sqrt', 'log2']\n",
    "              }]\n",
    "\n",
    "reg = DecisionTreeRegressor()\n",
    "grid_search = GridSearchCV(reg, param_grid, cv=3, n_jobs=-1, scoring='neg_mean_squared_log_error')\n",
    "grid_search.fit(train_X, train_y)\n",
    "\n",
    "print(\"grid_search.best_params_ =\", grid_search.best_params_)\n",
    "print(\"grid_search.best_score_ =\", 1 - np.sqrt(-1*grid_search.best_score_))"
   ]
  },
  {
   "cell_type": "code",
   "execution_count": null,
   "metadata": {},
   "outputs": [],
   "source": [
    "# Bagging\n",
    "from sklearn.model_selection import cross_val_score\n",
    "from sklearn.ensemble import RandomForestRegressor\n",
    "from sklearn.ensemble import BaggingRegressor\n",
    "\n",
    "bag_reg = BaggingRegressor(\n",
    "        RandomForestRegressor(n_estimators=100), \n",
    "        bootstrap=True, n_estimators=300)\n",
    "bag_reg.fit(train_X, train_y)\n",
    "predictions = bag_reg.predict(train_X)\n",
    "\n",
    "bagging_score = 1 - np.sqrt(mean_squared_log_error(train_y, predictions))\n",
    "cv_score = cross_val_score(bag_reg, train_X, train_y, cv=3, scoring='neg_mean_squared_log_error')\n",
    "cv_score = 1 - np.sqrt(-1*np.mean(cv_score))\n",
    "\n",
    "bagging_score, cv_score"
   ]
  },
  {
   "cell_type": "code",
   "execution_count": null,
   "metadata": {},
   "outputs": [
    {
     "name": "stdout",
     "output_type": "stream",
     "text": [
      "Fitting 3 folds for each of 2 candidates, totalling 6 fits\n"
     ]
    },
    {
     "name": "stderr",
     "output_type": "stream",
     "text": [
      "[Parallel(n_jobs=-1)]: Using backend LokyBackend with 4 concurrent workers.\n",
      "[Parallel(n_jobs=-1)]: Done   2 out of   6 | elapsed: 46.0min remaining: 92.0min\n"
     ]
    }
   ],
   "source": [
    "# GridSearchCV to find optimal parameters on BaggingRegressor\n",
    "from sklearn.ensemble import BaggingRegressor\n",
    "from sklearn.ensemble import RandomForestRegressor\n",
    "from sklearn.model_selection import GridSearchCV\n",
    "\n",
    "param_grid = [{'n_estimators' : [100,500], \n",
    "               #'max_samples' : [1.0, 0.5, 0.1],\n",
    "               #'max_features' : [1.0, 0.5, 0.1],\n",
    "               #'bootstrap' : ['True', 'False'],\n",
    "               #'bootstrap_features' : ['True', 'False'],\n",
    "               #'oob_score' : ['True', 'False'],\n",
    "               #'warm_start' : ['True', 'False']\n",
    "              }]\n",
    "\n",
    "reg = BaggingRegressor(RandomForestRegressor(n_estimators=100), bootstrap='True')\n",
    "grid_search = GridSearchCV(reg, param_grid, cv=3, n_jobs=-1, scoring='neg_mean_squared_log_error', verbose=3)\n",
    "grid_search.fit(train_X, train_y)\n",
    "\n",
    "print(\"grid_search.best_params_ =\", grid_search.best_params_)\n",
    "print(\"grid_search.best_score_ =\", 1 - np.sqrt(-1*grid_search.best_score_))"
   ]
  },
  {
   "cell_type": "code",
   "execution_count": 50,
   "metadata": {},
   "outputs": [
    {
     "data": {
      "text/plain": [
       "(0.8914157058791123, 0.8914017507057018)"
      ]
     },
     "execution_count": 50,
     "metadata": {},
     "output_type": "execute_result"
    }
   ],
   "source": [
    "import xgboost as xgb\n",
    "from sklearn.model_selection import cross_val_score\n",
    "\n",
    "xgb_reg = xgb.XGBRegressor(seed=1, max_depth=100, learning_rate=0.05, objective='reg:tweedie', \n",
    "                           n_jobs=-1, reg_alpha=0, reg_lambda=0, booster='gbtree',\n",
    "                          gamma=15, subsample=0.75)\n",
    "xgb_reg.fit(train_X, train_y)\n",
    "\n",
    "predictions = xgb_reg.predict(train_X)\n",
    "\n",
    "train_score = 1 - np.sqrt(mean_squared_log_error(train_y, predictions))\n",
    "cv_score = cross_val_score(xgb_reg, train_X, train_y, cv=3, scoring='neg_mean_squared_log_error')\n",
    "cv_score = 1 - np.sqrt(-1*np.mean(cv_score))\n",
    "\n",
    "train_score, cv_score"
   ]
  },
  {
   "cell_type": "code",
   "execution_count": null,
   "metadata": {},
   "outputs": [],
   "source": [
    "from sklearn.ensemble import GradientBoostingRegressor\n",
    "gbr = GradientBoostingRegressor(learning_rate=0.5, n_estimators=500, max_depth=15)\n",
    "gbr.fit(train_X, train_y)\n",
    "\n",
    "predictions = gbr.predict(train_X)\n",
    "\n",
    "train_score = 1 - np.sqrt(mean_squared_log_error(train_y, predictions))\n",
    "cv_score = cross_val_score(gbr, train_X, train_y, cv=3, scoring='neg_mean_squared_log_error')\n",
    "cv_score = 1 - np.sqrt(-1*np.mean(cv_score))\n",
    "\n",
    "train_score, cv_score"
   ]
  },
  {
   "cell_type": "markdown",
   "metadata": {},
   "source": [
    "   ## Prepare submission file"
   ]
  },
  {
   "cell_type": "code",
   "execution_count": 51,
   "metadata": {},
   "outputs": [],
   "source": [
    "# Length of test dataset \n",
    "test_data_m = test_data.shape[0]\n",
    "\n",
    "# Submission output path\n",
    "submission_out_path = os.path.join(\"C:\\Study\\DataSets\\\\MachineHack-predict-a-doctors-consultation-fees\", \n",
    "                                   \"Submission_07Mar19_xgb_log1.xlsx\")\n",
    "\n",
    "# ============================\n",
    "# Change the model below\n",
    "# ============================\n",
    "test_prediction = xgb_reg.predict(test_X)\n",
    "\n",
    "my_submission = pd.DataFrame({'Fees': test_prediction})\n",
    "my_submission.to_excel(submission_out_path, index=False)"
   ]
  }
 ],
 "metadata": {
  "kernelspec": {
   "display_name": "Python 3",
   "language": "python",
   "name": "python3"
  },
  "language_info": {
   "codemirror_mode": {
    "name": "ipython",
    "version": 3
   },
   "file_extension": ".py",
   "mimetype": "text/x-python",
   "name": "python",
   "nbconvert_exporter": "python",
   "pygments_lexer": "ipython3",
   "version": "3.7.0"
  }
 },
 "nbformat": 4,
 "nbformat_minor": 2
}
