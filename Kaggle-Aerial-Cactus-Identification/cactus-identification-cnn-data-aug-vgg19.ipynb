{
 "cells": [
  {
   "cell_type": "code",
   "execution_count": 1,
   "metadata": {
    "_uuid": "f2b1b45d7222c7109884df0029385d81718f7209"
   },
   "outputs": [],
   "source": [
    "import pandas as pd\n",
    "import numpy as np\n",
    "import matplotlib.pyplot as plt\n",
    "import json\n",
    "import os\n",
    "from tqdm import tqdm, tqdm_notebook\n",
    "\n",
    "import tensorflow as tf\n",
    "from tensorflow.keras.models import Sequential, Model\n",
    "from tensorflow.keras.layers import *\n",
    "from tensorflow.keras.optimizers import *\n",
    "from tensorflow.keras.applications import *\n",
    "from tensorflow.keras.callbacks import *\n",
    "from tensorflow.keras.initializers import *\n",
    "from tensorflow.keras.preprocessing.image import ImageDataGenerator"
   ]
  },
  {
   "cell_type": "code",
   "execution_count": 2,
   "metadata": {
    "_cell_guid": "b1076dfc-b9ad-4769-8c92-a6c4dae69d19",
    "_uuid": "8f2839f25d086af736a60e9eeb907d3b93b6e0e5"
   },
   "outputs": [
    {
     "name": "stdout",
     "output_type": "stream",
     "text": [
      "['test', 'train', 'train.csv', 'sample_submission.csv']\n"
     ]
    }
   ],
   "source": [
    "print(os.listdir(\"../input/\"))"
   ]
  },
  {
   "cell_type": "markdown",
   "metadata": {
    "_uuid": "4d3374968aa7f3881f1b83408f272367f0e63619"
   },
   "source": [
    "## Read and set up data"
   ]
  },
  {
   "cell_type": "code",
   "execution_count": 3,
   "metadata": {
    "_cell_guid": "79c7e3d0-c299-4dcb-8224-4455121ee9b0",
    "_uuid": "d629ff2d2480ee46fbb7e2d37f6b5fab8052498a"
   },
   "outputs": [
    {
     "data": {
      "text/html": [
       "<div>\n",
       "<style scoped>\n",
       "    .dataframe tbody tr th:only-of-type {\n",
       "        vertical-align: middle;\n",
       "    }\n",
       "\n",
       "    .dataframe tbody tr th {\n",
       "        vertical-align: top;\n",
       "    }\n",
       "\n",
       "    .dataframe thead th {\n",
       "        text-align: right;\n",
       "    }\n",
       "</style>\n",
       "<table border=\"1\" class=\"dataframe\">\n",
       "  <thead>\n",
       "    <tr style=\"text-align: right;\">\n",
       "      <th></th>\n",
       "      <th>id</th>\n",
       "      <th>has_cactus</th>\n",
       "    </tr>\n",
       "  </thead>\n",
       "  <tbody>\n",
       "    <tr>\n",
       "      <th>0</th>\n",
       "      <td>0004be2cfeaba1c0361d39e2b000257b.jpg</td>\n",
       "      <td>1</td>\n",
       "    </tr>\n",
       "    <tr>\n",
       "      <th>1</th>\n",
       "      <td>000c8a36845c0208e833c79c1bffedd1.jpg</td>\n",
       "      <td>1</td>\n",
       "    </tr>\n",
       "    <tr>\n",
       "      <th>2</th>\n",
       "      <td>000d1e9a533f62e55c289303b072733d.jpg</td>\n",
       "      <td>1</td>\n",
       "    </tr>\n",
       "    <tr>\n",
       "      <th>3</th>\n",
       "      <td>0011485b40695e9138e92d0b3fb55128.jpg</td>\n",
       "      <td>1</td>\n",
       "    </tr>\n",
       "    <tr>\n",
       "      <th>4</th>\n",
       "      <td>0014d7a11e90b62848904c1418fc8cf2.jpg</td>\n",
       "      <td>1</td>\n",
       "    </tr>\n",
       "  </tbody>\n",
       "</table>\n",
       "</div>"
      ],
      "text/plain": [
       "                                     id  has_cactus\n",
       "0  0004be2cfeaba1c0361d39e2b000257b.jpg           1\n",
       "1  000c8a36845c0208e833c79c1bffedd1.jpg           1\n",
       "2  000d1e9a533f62e55c289303b072733d.jpg           1\n",
       "3  0011485b40695e9138e92d0b3fb55128.jpg           1\n",
       "4  0014d7a11e90b62848904c1418fc8cf2.jpg           1"
      ]
     },
     "execution_count": 3,
     "metadata": {},
     "output_type": "execute_result"
    }
   ],
   "source": [
    "# Read data\n",
    "train_dir = \"../input/train/train/\"\n",
    "test_dir = \"../input/test/test/\"\n",
    "\n",
    "train_df = pd.read_csv('../input/train.csv')\n",
    "train_df.head()"
   ]
  },
  {
   "cell_type": "code",
   "execution_count": 4,
   "metadata": {
    "_uuid": "2ffaa5aba1e6197e0f2ced15187c06aa87cb4726"
   },
   "outputs": [
    {
     "name": "stdout",
     "output_type": "stream",
     "text": [
      "Image shape = (32, 32, 3)\n"
     ]
    },
    {
     "data": {
      "image/png": "[encoded data removed]",
      "text/plain": [
       "<Figure size 432x288 with 1 Axes>"
      ]
     },
     "metadata": {},
     "output_type": "display_data"
    }
   ],
   "source": [
    "# Read and display an image\n",
    "image = plt.imread(os.path.join(train_dir, os.listdir(train_dir)[0]))\n",
    "print(\"Image shape =\", image.shape)\n",
    "train_input_shape = image.shape\n",
    "plt.imshow(image)\n",
    "plt.show()"
   ]
  },
  {
   "cell_type": "markdown",
   "metadata": {
    "_uuid": "9afc1b8533ad9c6167e3a50432127e4c6e9f44e0"
   },
   "source": [
    "## Image Augmentation"
   ]
  },
  {
   "cell_type": "code",
   "execution_count": 5,
   "metadata": {
    "_uuid": "5bdbbb3b523d3e82c9c83508842c8536ddb645a9"
   },
   "outputs": [
    {
     "name": "stdout",
     "output_type": "stream",
     "text": [
      "Found 14000 images.\n",
      "Found 3500 images.\n",
      "Total number of batches = 875 and 218\n"
     ]
    }
   ],
   "source": [
    "# Augment data\n",
    "batch_size = 16\n",
    "train_datagen = ImageDataGenerator(validation_split=0.2,\n",
    "                                   rescale=1./255,\n",
    "                                   rotation_range=45,\n",
    "                                   width_shift_range=0.2,\n",
    "                                   height_shift_range=0.2,\n",
    "                                   shear_range=0.2,\n",
    "                                   zoom_range=0.2,\n",
    "                                   horizontal_flip=True,\n",
    "                                   vertical_flip=True,\n",
    "                                  )\n",
    "\n",
    "train_generator = train_datagen.flow_from_dataframe(dataframe=train_df, \n",
    "                                                    directory=train_dir, \n",
    "                                                    x_col=\"id\", \n",
    "                                                    y_col=\"has_cactus\", \n",
    "                                                    class_mode=\"other\",\n",
    "                                                    subset=\"training\",\n",
    "                                                    target_size=train_input_shape[0:2], \n",
    "                                                    batch_size=batch_size)\n",
    "\n",
    "valid_generator = train_datagen.flow_from_dataframe(dataframe=train_df, \n",
    "                                                    directory=train_dir, \n",
    "                                                    x_col=\"id\", \n",
    "                                                    y_col=\"has_cactus\", \n",
    "                                                    class_mode=\"other\",\n",
    "                                                    subset=\"validation\",\n",
    "                                                    target_size=train_input_shape[0:2], \n",
    "                                                    batch_size=batch_size)\n",
    "\n",
    "STEP_SIZE_TRAIN = train_generator.n//train_generator.batch_size\n",
    "STEP_SIZE_VALID = valid_generator.n//valid_generator.batch_size\n",
    "print(\"Total number of batches =\", STEP_SIZE_TRAIN, \"and\", STEP_SIZE_VALID)"
   ]
  },
  {
   "cell_type": "markdown",
   "metadata": {
    "_uuid": "14162cea761f425a19a7f1a0589e445c8f0b06c7"
   },
   "source": [
    "## Build model"
   ]
  },
  {
   "cell_type": "code",
   "execution_count": 6,
   "metadata": {
    "_uuid": "0015c78383b92457b131f2f79379847503f01833"
   },
   "outputs": [
    {
     "name": "stdout",
     "output_type": "stream",
     "text": [
      "WARNING:tensorflow:From /opt/conda/lib/python3.6/site-packages/tensorflow/python/ops/resource_variable_ops.py:435: colocate_with (from tensorflow.python.framework.ops) is deprecated and will be removed in a future version.\n",
      "Instructions for updating:\n",
      "Colocations handled automatically by placer.\n",
      "Downloading data from https://github.com/fchollet/deep-learning-models/releases/download/v0.1/vgg19_weights_tf_dim_ordering_tf_kernels_notop.h5\n",
      "80142336/80134624 [==============================] - 1s 0us/step\n"
     ]
    }
   ],
   "source": [
    "# Load pre-trained model\n",
    "vgg19_net = VGG19(weights='imagenet', include_top=False, input_shape=train_input_shape)\n",
    "\n",
    "for layer in vgg19_net.layers:\n",
    "    layer.trainable = True\n",
    "\n",
    "#vgg19_net.summary()"
   ]
  },
  {
   "cell_type": "code",
   "execution_count": 7,
   "metadata": {
    "_uuid": "e0a60b2a913c2d77e9af8580e65af63c08b136af"
   },
   "outputs": [
    {
     "name": "stdout",
     "output_type": "stream",
     "text": [
      "WARNING:tensorflow:From /opt/conda/lib/python3.6/site-packages/tensorflow/python/keras/layers/core.py:143: calling dropout (from tensorflow.python.ops.nn_ops) with keep_prob is deprecated and will be removed in a future version.\n",
      "Instructions for updating:\n",
      "Please use `rate` instead of `keep_prob`. Rate should be set to `rate = 1 - keep_prob`.\n"
     ]
    }
   ],
   "source": [
    "# Add layers at the end\n",
    "X = vgg19_net.output\n",
    "X = Flatten()(X)\n",
    "\n",
    "X = Dropout(0.5)(X)\n",
    "X = Dense(256, kernel_initializer='he_uniform')(X)\n",
    "X = BatchNormalization()(X)\n",
    "X = Activation('relu')(X)\n",
    "\n",
    "X = Dropout(0.5)(X)\n",
    "X = Dense(512, kernel_initializer='he_uniform')(X)\n",
    "X = BatchNormalization()(X)\n",
    "X = Activation('relu')(X)\n",
    "\n",
    "X = Dropout(0.5)(X)\n",
    "X = Dense(16, kernel_initializer='he_uniform')(X)\n",
    "X = BatchNormalization()(X)\n",
    "X = Activation('relu')(X)\n",
    "\n",
    "output = Dense(1, activation='sigmoid')(X)\n",
    "\n",
    "model = Model(inputs=vgg19_net.input, outputs=output)"
   ]
  },
  {
   "cell_type": "code",
   "execution_count": 8,
   "metadata": {
    "_uuid": "6ce184ce000b658fc951097822dc1c5605152d47"
   },
   "outputs": [],
   "source": [
    "model.compile(loss='binary_crossentropy',\n",
    "              optimizer=Adam(lr=0.0001), \n",
    "              metrics=['accuracy'])"
   ]
  },
  {
   "cell_type": "code",
   "execution_count": 9,
   "metadata": {
    "_uuid": "4206d90e8c4dd006d25c29ff9c318fb937826ba2"
   },
   "outputs": [],
   "source": [
    "n_epoch = 100\n",
    "\n",
    "early_stop = EarlyStopping(monitor='val_acc', patience=20, verbose=1, \n",
    "                           mode='auto', restore_best_weights=True)\n",
    "\n",
    "reduce_lr = ReduceLROnPlateau(monitor='val_loss', factor=0.1, patience=10, \n",
    "                              verbose=1, mode='auto')"
   ]
  },
  {
   "cell_type": "code",
   "execution_count": 10,
   "metadata": {
    "_uuid": "b2cd4cfb400f9d849029593191dd283667cfae9c"
   },
   "outputs": [
    {
     "name": "stdout",
     "output_type": "stream",
     "text": [
      "WARNING:tensorflow:From /opt/conda/lib/python3.6/site-packages/tensorflow/python/ops/math_ops.py:3066: to_int32 (from tensorflow.python.ops.math_ops) is deprecated and will be removed in a future version.\n",
      "Instructions for updating:\n",
      "Use tf.cast instead.\n",
      "Epoch 1/100\n",
      "219/219 [==============================] - 5s 24ms/step - loss: 0.6441 - acc: 0.5114\n",
      "875/875 [==============================] - 42s 48ms/step - loss: 0.3487 - acc: 0.8935 - val_loss: 0.6441 - val_acc: 0.5114\n",
      "Epoch 2/100\n",
      "219/219 [==============================] - 5s 21ms/step - loss: 0.1620 - acc: 0.9754\n",
      "875/875 [==============================] - 36s 42ms/step - loss: 0.1890 - acc: 0.9602 - val_loss: 0.1620 - val_acc: 0.9754\n",
      "Epoch 3/100\n",
      "219/219 [==============================] - 5s 21ms/step - loss: 0.0870 - acc: 0.9769\n",
      "875/875 [==============================] - 38s 43ms/step - loss: 0.1457 - acc: 0.9616 - val_loss: 0.0870 - val_acc: 0.9769\n",
      "Epoch 4/100\n",
      "219/219 [==============================] - 5s 21ms/step - loss: 0.0539 - acc: 0.9846\n",
      "875/875 [==============================] - 36s 41ms/step - loss: 0.1121 - acc: 0.9686 - val_loss: 0.0539 - val_acc: 0.9846\n",
      "Epoch 5/100\n",
      "219/219 [==============================] - 5s 21ms/step - loss: 0.0590 - acc: 0.9826\n",
      "875/875 [==============================] - 37s 43ms/step - loss: 0.0916 - acc: 0.9761 - val_loss: 0.0590 - val_acc: 0.9826\n",
      "Epoch 6/100\n",
      "219/219 [==============================] - 4s 20ms/step - loss: 0.1029 - acc: 0.9806\n",
      "875/875 [==============================] - 37s 42ms/step - loss: 0.0767 - acc: 0.9797 - val_loss: 0.1029 - val_acc: 0.9806\n",
      "Epoch 7/100\n",
      "219/219 [==============================] - 5s 23ms/step - loss: 0.0463 - acc: 0.9851\n",
      "875/875 [==============================] - 39s 44ms/step - loss: 0.0771 - acc: 0.9791 - val_loss: 0.0463 - val_acc: 0.9851\n",
      "Epoch 8/100\n",
      "219/219 [==============================] - 4s 20ms/step - loss: 0.0429 - acc: 0.9889\n",
      "875/875 [==============================] - 36s 41ms/step - loss: 0.0717 - acc: 0.9801 - val_loss: 0.0429 - val_acc: 0.9889\n",
      "Epoch 9/100\n",
      "219/219 [==============================] - 5s 22ms/step - loss: 0.0410 - acc: 0.9923\n",
      "875/875 [==============================] - 38s 43ms/step - loss: 0.0591 - acc: 0.9831 - val_loss: 0.0410 - val_acc: 0.9923\n",
      "Epoch 10/100\n",
      "219/219 [==============================] - 5s 21ms/step - loss: 0.0743 - acc: 0.9834\n",
      "875/875 [==============================] - 36s 41ms/step - loss: 0.0575 - acc: 0.9837 - val_loss: 0.0743 - val_acc: 0.9834\n",
      "Epoch 11/100\n",
      "219/219 [==============================] - 5s 23ms/step - loss: 0.0495 - acc: 0.9809\n",
      "875/875 [==============================] - 37s 42ms/step - loss: 0.0593 - acc: 0.9841 - val_loss: 0.0495 - val_acc: 0.9809\n",
      "Epoch 12/100\n",
      "219/219 [==============================] - 4s 20ms/step - loss: 0.0375 - acc: 0.9880\n",
      "875/875 [==============================] - 37s 42ms/step - loss: 0.0598 - acc: 0.9826 - val_loss: 0.0375 - val_acc: 0.9880\n",
      "Epoch 13/100\n",
      "492/875 [===============>..............] - ETA: 13s - loss: 0.0545 - acc: 0.9845"
     ]
    }
   ],
   "source": [
    "%%time\n",
    "history = model.fit_generator(generator=train_generator, steps_per_epoch=STEP_SIZE_TRAIN,\n",
    "                              validation_data=valid_generator, validation_steps=STEP_SIZE_VALID,\n",
    "                              epochs=n_epoch,\n",
    "                              shuffle=True,\n",
    "                              verbose=1,\n",
    "                              callbacks=[early_stop, reduce_lr],\n",
    "                              use_multiprocessing=True,\n",
    "                              workers=10\n",
    "                             )"
   ]
  },
  {
   "cell_type": "code",
   "execution_count": 11,
   "metadata": {
    "_uuid": "898075f768db94965133df52fe650334f744541d"
   },
   "outputs": [
    {
     "data": {
      "image/png": "[encoded data removed]",
      "text/plain": [
       "<Figure size 1080x360 with 2 Axes>"
      ]
     },
     "metadata": {},
     "output_type": "display_data"
    }
   ],
   "source": [
    "# Plot the training graph\n",
    "def plot_training(history):\n",
    "    acc = history.history['acc']\n",
    "    val_acc = history.history['val_acc']\n",
    "    loss = history.history['loss']\n",
    "    val_loss = history.history['val_loss']\n",
    "    epochs = range(len(acc))\n",
    "\n",
    "    fig, axes = plt.subplots(1, 2, figsize=(15,5))\n",
    "    \n",
    "    axes[0].plot(epochs, acc, 'r-', label='Training Accuracy')\n",
    "    axes[0].plot(epochs, val_acc, 'b--', label='Validation Accuracy')\n",
    "    axes[0].set_title('Training and Validation Accuracy')\n",
    "    axes[0].legend(loc='best')\n",
    "\n",
    "    axes[1].plot(epochs, loss, 'r-', label='Training Loss')\n",
    "    axes[1].plot(epochs, val_loss, 'b--', label='Validation Loss')\n",
    "    axes[1].set_title('Training and Validation Loss')\n",
    "    axes[1].legend(loc='best')\n",
    "    \n",
    "    plt.show()\n",
    "    \n",
    "plot_training(history)"
   ]
  },
  {
   "cell_type": "code",
   "execution_count": 12,
   "metadata": {
    "_uuid": "cd4bf4945a12d11ce13c9cda6befe55c392c0d8d"
   },
   "outputs": [
    {
     "name": "stdout",
     "output_type": "stream",
     "text": [
      "219/219 [==============================] - 5s 23ms/step - loss: 0.0129 - acc: 0.9960\n"
     ]
    },
    {
     "data": {
      "text/plain": [
       "[0.01292806052487276, 0.996]"
      ]
     },
     "execution_count": 12,
     "metadata": {},
     "output_type": "execute_result"
    }
   ],
   "source": [
    "# Evaluate on validation set\n",
    "result = model.evaluate_generator(generator=valid_generator, verbose=1)\n",
    "result"
   ]
  },
  {
   "cell_type": "code",
   "execution_count": 13,
   "metadata": {
    "_uuid": "cd427b2643d0a1e94227977ecf9b579415f9f7d4"
   },
   "outputs": [
    {
     "data": {
      "image/png": "[encoded data removed]",
      "text/plain": [
       "<Figure size 432x288 with 1 Axes>"
      ]
     },
     "metadata": {},
     "output_type": "display_data"
    },
    {
     "name": "stdout",
     "output_type": "stream",
     "text": [
      "              precision    recall  f1-score   support\n",
      "\n",
      "           0       0.99      0.99      0.99       881\n",
      "           1       1.00      1.00      1.00      2607\n",
      "\n",
      "   micro avg       1.00      1.00      1.00      3488\n",
      "   macro avg       0.99      1.00      1.00      3488\n",
      "weighted avg       1.00      1.00      1.00      3488\n",
      "\n",
      "\n",
      "AUC:  0.9952522393433901\n"
     ]
    }
   ],
   "source": [
    "# Classification report and confusion matrix\n",
    "from sklearn.metrics import *\n",
    "import seaborn as sns\n",
    "\n",
    "def showClassficationReport_Generator(model, valid_generator, STEP_SIZE_VALID):\n",
    "    # Loop on each generator batch and predict\n",
    "    y_pred, y_true = [], []\n",
    "    for i in range(STEP_SIZE_VALID):\n",
    "        (X,y) = next(valid_generator)\n",
    "        y_pred.append(model.predict(X))\n",
    "        y_true.append(y)\n",
    "    \n",
    "    # Create a flat list for y_true and y_pred\n",
    "    y_pred = [subresult for result in y_pred for subresult in result]\n",
    "    y_true = [subresult for result in y_true for subresult in result]\n",
    "    \n",
    "    # Update Prediction vector based on threshold\n",
    "    y_pred = np.asarray(y_pred).astype('float32').ravel()\n",
    "    y_pred = y_pred >= 0.5\n",
    "    y_pred = y_pred.astype('int').ravel()\n",
    "    \n",
    "    # Confusion Matrix\n",
    "    conf_matrix = confusion_matrix(y_true, y_pred, labels = [1,0])\n",
    "    sns.heatmap(conf_matrix.T, annot=True, fmt=\"d\", square=True, cbar=False, \n",
    "                cmap=plt.cm.gray, xticklabels=[1,0], yticklabels=[1,0])\n",
    "    plt.ylabel('Predicted')\n",
    "    plt.xlabel('Actual')\n",
    "    plt.title('Confusion Matrix')\n",
    "    plt.show()\n",
    "    \n",
    "    print(classification_report(y_true, y_pred, target_names=['0','1']))\n",
    "    print(\"\\nAUC: \", roc_auc_score(y_true, y_pred))\n",
    "\n",
    "showClassficationReport_Generator(model, valid_generator, STEP_SIZE_VALID)"
   ]
  },
  {
   "cell_type": "markdown",
   "metadata": {
    "_uuid": "c841e3ab0b59e0a3bf9ae1885d99533b05f06fc4"
   },
   "source": [
    "## Prepare data for prediction on test set"
   ]
  },
  {
   "cell_type": "code",
   "execution_count": 14,
   "metadata": {
    "_uuid": "33c7560628f0fe446b6355d26f9fee67da4fc58a"
   },
   "outputs": [
    {
     "name": "stdout",
     "output_type": "stream",
     "text": [
      "Found 4000 images belonging to 1 classes.\n"
     ]
    }
   ],
   "source": [
    "test_datagen = ImageDataGenerator(rescale=1./255)\n",
    "\n",
    "test_dir = '../input/test'\n",
    "test_generator = test_datagen.flow_from_directory(directory=test_dir,\n",
    "                                                  class_mode=None,\n",
    "                                                  target_size=train_input_shape[0:2],\n",
    "                                                  batch_size=1,\n",
    "                                                  shuffle=False\n",
    "                                                 )"
   ]
  },
  {
   "cell_type": "markdown",
   "metadata": {
    "_uuid": "08afdd8c3000a63d5846644d83bebd55bb2e7fdb"
   },
   "source": [
    "## Predict and Submit"
   ]
  },
  {
   "cell_type": "code",
   "execution_count": 15,
   "metadata": {
    "_uuid": "067733fbfd186fa1d65d4110165b345a6c9f1898"
   },
   "outputs": [
    {
     "name": "stdout",
     "output_type": "stream",
     "text": [
      "4000/4000 [==============================] - 34s 8ms/step\n"
     ]
    },
    {
     "data": {
      "text/plain": [
       "(4000,)"
      ]
     },
     "execution_count": 15,
     "metadata": {},
     "output_type": "execute_result"
    }
   ],
   "source": [
    "# Predict on test data\n",
    "test_generator.reset()\n",
    "predictions = model.predict_generator(test_generator,verbose=1)\n",
    "predictions = predictions >= 0.5\n",
    "predictions = predictions.astype('int').ravel()\n",
    "predictions.shape"
   ]
  },
  {
   "cell_type": "code",
   "execution_count": 16,
   "metadata": {
    "_uuid": "3c52db7624172d624771f0a00205568676fcc853"
   },
   "outputs": [
    {
     "data": {
      "text/plain": [
       "4000"
      ]
     },
     "execution_count": 16,
     "metadata": {},
     "output_type": "execute_result"
    }
   ],
   "source": [
    "# Retrieve filenames\n",
    "import re\n",
    "test_img_ids = [re.split(\"/\", val)[1] for val in test_generator.filenames]\n",
    "len(test_img_ids)"
   ]
  },
  {
   "cell_type": "code",
   "execution_count": 17,
   "metadata": {
    "_uuid": "5785b0499ce1d7425bce81e98c2d20d29dc7cc7e"
   },
   "outputs": [
    {
     "data": {
      "text/html": [
       "<div>\n",
       "<style scoped>\n",
       "    .dataframe tbody tr th:only-of-type {\n",
       "        vertical-align: middle;\n",
       "    }\n",
       "\n",
       "    .dataframe tbody tr th {\n",
       "        vertical-align: top;\n",
       "    }\n",
       "\n",
       "    .dataframe thead th {\n",
       "        text-align: right;\n",
       "    }\n",
       "</style>\n",
       "<table border=\"1\" class=\"dataframe\">\n",
       "  <thead>\n",
       "    <tr style=\"text-align: right;\">\n",
       "      <th></th>\n",
       "      <th>id</th>\n",
       "      <th>has_cactus</th>\n",
       "    </tr>\n",
       "  </thead>\n",
       "  <tbody>\n",
       "    <tr>\n",
       "      <th>0</th>\n",
       "      <td>000940378805c44108d287872b2f04ce.jpg</td>\n",
       "      <td>1</td>\n",
       "    </tr>\n",
       "    <tr>\n",
       "      <th>1</th>\n",
       "      <td>0017242f54ececa4512b4d7937d1e21e.jpg</td>\n",
       "      <td>1</td>\n",
       "    </tr>\n",
       "    <tr>\n",
       "      <th>2</th>\n",
       "      <td>001ee6d8564003107853118ab87df407.jpg</td>\n",
       "      <td>0</td>\n",
       "    </tr>\n",
       "    <tr>\n",
       "      <th>3</th>\n",
       "      <td>002e175c3c1e060769475f52182583d0.jpg</td>\n",
       "      <td>0</td>\n",
       "    </tr>\n",
       "    <tr>\n",
       "      <th>4</th>\n",
       "      <td>0036e44a7e8f7218e9bc7bf8137e4943.jpg</td>\n",
       "      <td>1</td>\n",
       "    </tr>\n",
       "  </tbody>\n",
       "</table>\n",
       "</div>"
      ],
      "text/plain": [
       "                                     id  has_cactus\n",
       "0  000940378805c44108d287872b2f04ce.jpg           1\n",
       "1  0017242f54ececa4512b4d7937d1e21e.jpg           1\n",
       "2  001ee6d8564003107853118ab87df407.jpg           0\n",
       "3  002e175c3c1e060769475f52182583d0.jpg           0\n",
       "4  0036e44a7e8f7218e9bc7bf8137e4943.jpg           1"
      ]
     },
     "execution_count": 17,
     "metadata": {},
     "output_type": "execute_result"
    }
   ],
   "source": [
    "# Create dataframe for submission\n",
    "submission_df = pd.DataFrame({'id' : test_img_ids,\n",
    "                              'has_cactus' : predictions })\n",
    "submission_df.head()"
   ]
  },
  {
   "cell_type": "code",
   "execution_count": 18,
   "metadata": {
    "_uuid": "f2b7c10b6dd4103cf2477fe6f492a635f312b1e1"
   },
   "outputs": [],
   "source": [
    "# Create submission file\n",
    "submission_df.to_csv('submission.csv', index=False)"
   ]
  }
 ],
 "metadata": {
  "kernelspec": {
   "display_name": "Python 3",
   "language": "python",
   "name": "python3"
  },
  "language_info": {
   "codemirror_mode": {
    "name": "ipython",
    "version": 3
   },
   "file_extension": ".py",
   "mimetype": "text/x-python",
   "name": "python",
   "nbconvert_exporter": "python",
   "pygments_lexer": "ipython3",
   "version": "3.6.6"
  }
 },
 "nbformat": 4,
 "nbformat_minor": 1
}
