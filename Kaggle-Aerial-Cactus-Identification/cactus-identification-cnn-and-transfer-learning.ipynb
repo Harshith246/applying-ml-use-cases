{
 "cells": [
  {
   "cell_type": "code",
   "execution_count": 1,
   "metadata": {
    "_uuid": "f2b1b45d7222c7109884df0029385d81718f7209"
   },
   "outputs": [],
   "source": [
    "import pandas as pd\n",
    "import numpy as np\n",
    "import matplotlib.pyplot as plt\n",
    "import json\n",
    "import os\n",
    "from tqdm import tqdm, tqdm_notebook\n",
    "\n",
    "import tensorflow as tf\n",
    "from tensorflow.keras.models import Sequential, Model\n",
    "from tensorflow.keras.layers import *\n",
    "from tensorflow.keras.optimizers import *\n",
    "from tensorflow.keras.applications import *\n",
    "from tensorflow.keras.callbacks import *\n",
    "from tensorflow.keras.initializers import *"
   ]
  },
  {
   "cell_type": "code",
   "execution_count": 2,
   "metadata": {
    "_cell_guid": "b1076dfc-b9ad-4769-8c92-a6c4dae69d19",
    "_uuid": "8f2839f25d086af736a60e9eeb907d3b93b6e0e5"
   },
   "outputs": [
    {
     "name": "stdout",
     "output_type": "stream",
     "text": [
      "['test', 'train', 'train.csv', 'sample_submission.csv']\n"
     ]
    }
   ],
   "source": [
    "print(os.listdir(\"../input/\"))"
   ]
  },
  {
   "cell_type": "markdown",
   "metadata": {
    "_uuid": "4d3374968aa7f3881f1b83408f272367f0e63619"
   },
   "source": [
    "## Read and set up data"
   ]
  },
  {
   "cell_type": "code",
   "execution_count": 3,
   "metadata": {
    "_cell_guid": "79c7e3d0-c299-4dcb-8224-4455121ee9b0",
    "_uuid": "d629ff2d2480ee46fbb7e2d37f6b5fab8052498a"
   },
   "outputs": [
    {
     "data": {
      "text/html": [
       "<div>\n",
       "<style scoped>\n",
       "    .dataframe tbody tr th:only-of-type {\n",
       "        vertical-align: middle;\n",
       "    }\n",
       "\n",
       "    .dataframe tbody tr th {\n",
       "        vertical-align: top;\n",
       "    }\n",
       "\n",
       "    .dataframe thead th {\n",
       "        text-align: right;\n",
       "    }\n",
       "</style>\n",
       "<table border=\"1\" class=\"dataframe\">\n",
       "  <thead>\n",
       "    <tr style=\"text-align: right;\">\n",
       "      <th></th>\n",
       "      <th>id</th>\n",
       "      <th>has_cactus</th>\n",
       "    </tr>\n",
       "  </thead>\n",
       "  <tbody>\n",
       "    <tr>\n",
       "      <th>0</th>\n",
       "      <td>0004be2cfeaba1c0361d39e2b000257b.jpg</td>\n",
       "      <td>1</td>\n",
       "    </tr>\n",
       "    <tr>\n",
       "      <th>1</th>\n",
       "      <td>000c8a36845c0208e833c79c1bffedd1.jpg</td>\n",
       "      <td>1</td>\n",
       "    </tr>\n",
       "    <tr>\n",
       "      <th>2</th>\n",
       "      <td>000d1e9a533f62e55c289303b072733d.jpg</td>\n",
       "      <td>1</td>\n",
       "    </tr>\n",
       "    <tr>\n",
       "      <th>3</th>\n",
       "      <td>0011485b40695e9138e92d0b3fb55128.jpg</td>\n",
       "      <td>1</td>\n",
       "    </tr>\n",
       "    <tr>\n",
       "      <th>4</th>\n",
       "      <td>0014d7a11e90b62848904c1418fc8cf2.jpg</td>\n",
       "      <td>1</td>\n",
       "    </tr>\n",
       "  </tbody>\n",
       "</table>\n",
       "</div>"
      ],
      "text/plain": [
       "                                     id  has_cactus\n",
       "0  0004be2cfeaba1c0361d39e2b000257b.jpg           1\n",
       "1  000c8a36845c0208e833c79c1bffedd1.jpg           1\n",
       "2  000d1e9a533f62e55c289303b072733d.jpg           1\n",
       "3  0011485b40695e9138e92d0b3fb55128.jpg           1\n",
       "4  0014d7a11e90b62848904c1418fc8cf2.jpg           1"
      ]
     },
     "execution_count": 3,
     "metadata": {},
     "output_type": "execute_result"
    }
   ],
   "source": [
    "# Read data\n",
    "train_dir = \"../input/train/train/\"\n",
    "test_dir = \"../input/test/test/\"\n",
    "\n",
    "train_df = pd.read_csv('../input/train.csv')\n",
    "train_df.head()"
   ]
  },
  {
   "cell_type": "code",
   "execution_count": 4,
   "metadata": {
    "_uuid": "2ffaa5aba1e6197e0f2ced15187c06aa87cb4726"
   },
   "outputs": [
    {
     "name": "stdout",
     "output_type": "stream",
     "text": [
      "Image shape = (32, 32, 3)\n"
     ]
    },
    {
     "data": {
      "image/png": "[encoded data removed]",
      "text/plain": [
       "<Figure size 432x288 with 1 Axes>"
      ]
     },
     "metadata": {},
     "output_type": "display_data"
    }
   ],
   "source": [
    "# Read and display an image\n",
    "image = plt.imread(os.path.join(train_dir, os.listdir(train_dir)[0]))\n",
    "print(\"Image shape =\", image.shape)\n",
    "plt.imshow(image)\n",
    "plt.show()"
   ]
  },
  {
   "cell_type": "code",
   "execution_count": 5,
   "metadata": {
    "_uuid": "05f1368af075bc8ff42cff9fbfdcaf6b43cf4a08"
   },
   "outputs": [
    {
     "data": {
      "application/vnd.jupyter.widget-view+json": {
       "model_id": "8de9c662e1a74bccaa5c1da1bec0be42",
       "version_major": 2,
       "version_minor": 0
      },
      "text/plain": [
       "HBox(children=(IntProgress(value=0, max=17500), HTML(value='')))"
      ]
     },
     "metadata": {},
     "output_type": "display_data"
    },
    {
     "name": "stdout",
     "output_type": "stream",
     "text": [
      "\n",
      "X_train.shape = (17500, 32, 32, 3)\n",
      "y_train.shape = (17500,)\n"
     ]
    }
   ],
   "source": [
    "# Setup training data\n",
    "X_train, y_train = [], []\n",
    "\n",
    "# List all training image file names\n",
    "image_ids = train_df['id'].values\n",
    "\n",
    "# Read each image and store in a list\n",
    "for image_id in tqdm_notebook(image_ids):\n",
    "    image = plt.imread(os.path.join(train_dir, image_id))\n",
    "    X_train.append(image)\n",
    "\n",
    "# Convert the list into array and set datatype to float32\n",
    "X_train = np.asarray(X_train).astype('float32')\n",
    "X_train /= 255.\n",
    "print(\"X_train.shape =\", X_train.shape)\n",
    "\n",
    "# Read labels/y/has_cactus\n",
    "y_train = train_df['has_cactus'].values\n",
    "y_train = np.asarray(y_train).astype('float32')\n",
    "print(\"y_train.shape =\", y_train.shape)"
   ]
  },
  {
   "cell_type": "code",
   "execution_count": 6,
   "metadata": {
    "_uuid": "611cd23e93f65bffa176030107ed28f94eaa714b"
   },
   "outputs": [
    {
     "data": {
      "text/plain": [
       "(32, 32, 3)"
      ]
     },
     "execution_count": 6,
     "metadata": {},
     "output_type": "execute_result"
    }
   ],
   "source": [
    "# Set the shapes\n",
    "train_m = X_train.shape[0]\n",
    "train_input_shape = X_train.shape[1:]\n",
    "train_input_shape"
   ]
  },
  {
   "cell_type": "markdown",
   "metadata": {
    "_uuid": "14162cea761f425a19a7f1a0589e445c8f0b06c7"
   },
   "source": [
    "## Build model"
   ]
  },
  {
   "cell_type": "code",
   "execution_count": 7,
   "metadata": {
    "_uuid": "0015c78383b92457b131f2f79379847503f01833"
   },
   "outputs": [
    {
     "name": "stdout",
     "output_type": "stream",
     "text": [
      "WARNING:tensorflow:From /opt/conda/lib/python3.6/site-packages/tensorflow/python/ops/resource_variable_ops.py:435: colocate_with (from tensorflow.python.framework.ops) is deprecated and will be removed in a future version.\n",
      "Instructions for updating:\n",
      "Colocations handled automatically by placer.\n"
     ]
    },
    {
     "ename": "AttributeError",
     "evalue": "'Model' object has no attribute 'summay'",
     "output_type": "error",
     "traceback": [
      "\u001b[0;31m---------------------------------------------------------------------------\u001b[0m",
      "\u001b[0;31mAttributeError\u001b[0m                            Traceback (most recent call last)",
      "\u001b[0;32m<ipython-input-7-6a7bbfe06065>\u001b[0m in \u001b[0;36m<module>\u001b[0;34m()\u001b[0m\n\u001b[1;32m      6\u001b[0m     \u001b[0mlayer\u001b[0m\u001b[0;34m.\u001b[0m\u001b[0mtrainable\u001b[0m \u001b[0;34m=\u001b[0m \u001b[0;32mTrue\u001b[0m\u001b[0;34m\u001b[0m\u001b[0m\n\u001b[1;32m      7\u001b[0m \u001b[0;34m\u001b[0m\u001b[0m\n\u001b[0;32m----> 8\u001b[0;31m \u001b[0mvgg19_net\u001b[0m\u001b[0;34m.\u001b[0m\u001b[0msummay\u001b[0m\u001b[0;34m(\u001b[0m\u001b[0;34m)\u001b[0m\u001b[0;34m\u001b[0m\u001b[0m\n\u001b[0m",
      "\u001b[0;31mAttributeError\u001b[0m: 'Model' object has no attribute 'summay'"
     ]
    }
   ],
   "source": [
    "# Load pre-trained model\n",
    "vgg19_net = VGG19(weights=None, include_top=False, pooling='max',\n",
    "                  input_shape=train_input_shape)\n",
    "\n",
    "for layer in vgg19_net.layers:\n",
    "    layer.trainable = True\n",
    "\n",
    "vgg19_net.summay()"
   ]
  },
  {
   "cell_type": "code",
   "execution_count": 8,
   "metadata": {
    "_uuid": "e0a60b2a913c2d77e9af8580e65af63c08b136af"
   },
   "outputs": [
    {
     "name": "stdout",
     "output_type": "stream",
     "text": [
      "WARNING:tensorflow:From /opt/conda/lib/python3.6/site-packages/tensorflow/python/keras/layers/core.py:143: calling dropout (from tensorflow.python.ops.nn_ops) with keep_prob is deprecated and will be removed in a future version.\n",
      "Instructions for updating:\n",
      "Please use `rate` instead of `keep_prob`. Rate should be set to `rate = 1 - keep_prob`.\n"
     ]
    }
   ],
   "source": [
    "# Add layers at the end\n",
    "X = vgg19_net.output\n",
    "X = Flatten()(X)\n",
    "\n",
    "X = Dropout(0.5)(X)\n",
    "X = Dense(256, kernel_initializer='he_uniform')(X)\n",
    "X = BatchNormalization()(X)\n",
    "X = Activation('relu')(X)\n",
    "\n",
    "X = Dropout(0.5)(X)\n",
    "X = Dense(512, kernel_initializer='he_uniform')(X)\n",
    "X = BatchNormalization()(X)\n",
    "X = Activation('relu')(X)\n",
    "\n",
    "X = Dropout(0.5)(X)\n",
    "X = Dense(16, kernel_initializer='he_uniform')(X)\n",
    "X = BatchNormalization()(X)\n",
    "X = Activation('relu')(X)\n",
    "\n",
    "output = Dense(1, activation='sigmoid')(X)\n",
    "\n",
    "model = Model(inputs=vgg19_net.input, outputs=output)"
   ]
  },
  {
   "cell_type": "code",
   "execution_count": 9,
   "metadata": {
    "_uuid": "2ea4deeec5a8da7055106bdf08a65d82494dea09"
   },
   "outputs": [],
   "source": [
    "#model = Sequential()\n",
    "#model.add(vgg19_net)\n",
    "#model.add(Flatten())\n",
    "#model.add(Dense(256, activation='relu'))\n",
    "#model.add(Dropout(0.5))\n",
    "#model.add(Dense(1, activation='sigmoid'))\n",
    "#model.summary()"
   ]
  },
  {
   "cell_type": "code",
   "execution_count": 10,
   "metadata": {
    "_uuid": "6ce184ce000b658fc951097822dc1c5605152d47"
   },
   "outputs": [],
   "source": [
    "model.compile(loss='binary_crossentropy',\n",
    "              optimizer=Adam(lr=0.0001, epsilon=1e-8), \n",
    "              metrics=['accuracy'])"
   ]
  },
  {
   "cell_type": "code",
   "execution_count": 11,
   "metadata": {
    "_uuid": "4206d90e8c4dd006d25c29ff9c318fb937826ba2"
   },
   "outputs": [],
   "source": [
    "batch_size = 32\n",
    "n_epoch = 100\n",
    "\n",
    "early_stop = EarlyStopping(monitor='val_acc', patience=20, verbose=1, \n",
    "                           mode='auto', restore_best_weights=True)\n",
    "\n",
    "reduce_lr = ReduceLROnPlateau(monitor='val_loss', factor=0.1, patience=10, \n",
    "                              verbose=1, mode='auto')"
   ]
  },
  {
   "cell_type": "code",
   "execution_count": 12,
   "metadata": {
    "_uuid": "a4af89d8d162f42a27cad88440df55ff4f221595"
   },
   "outputs": [
    {
     "name": "stdout",
     "output_type": "stream",
     "text": [
      "Train on 14000 samples, validate on 3500 samples\n",
      "WARNING:tensorflow:From /opt/conda/lib/python3.6/site-packages/tensorflow/python/ops/math_ops.py:3066: to_int32 (from tensorflow.python.ops.math_ops) is deprecated and will be removed in a future version.\n",
      "Instructions for updating:\n",
      "Use tf.cast instead.\n",
      "WARNING:tensorflow:From /opt/conda/lib/python3.6/site-packages/tensorflow/python/ops/math_grad.py:102: div (from tensorflow.python.ops.math_ops) is deprecated and will be removed in a future version.\n",
      "Instructions for updating:\n",
      "Deprecated in favor of operator or tf.math.divide.\n",
      "Epoch 1/100\n",
      "14000/14000 [==============================] - 17s 1ms/sample - loss: 0.5436 - acc: 0.8245 - val_loss: 0.3704 - val_acc: 0.9186\n",
      "Epoch 2/100\n",
      "14000/14000 [==============================] - 14s 969us/sample - loss: 0.3400 - acc: 0.9501 - val_loss: 0.2573 - val_acc: 0.9789\n",
      "Epoch 3/100\n",
      "14000/14000 [==============================] - 14s 966us/sample - loss: 0.2659 - acc: 0.9633 - val_loss: 0.3727 - val_acc: 0.8066\n",
      "Epoch 4/100\n",
      "14000/14000 [==============================] - 14s 966us/sample - loss: 0.2114 - acc: 0.9719 - val_loss: 0.2619 - val_acc: 0.9146\n",
      "Epoch 5/100\n",
      "14000/14000 [==============================] - 14s 975us/sample - loss: 0.1659 - acc: 0.9794 - val_loss: 0.1425 - val_acc: 0.9760\n",
      "Epoch 6/100\n",
      "14000/14000 [==============================] - 14s 974us/sample - loss: 0.1304 - acc: 0.9835 - val_loss: 0.2383 - val_acc: 0.8946\n",
      "Epoch 7/100\n",
      "14000/14000 [==============================] - 14s 968us/sample - loss: 0.1083 - acc: 0.9845 - val_loss: 0.0832 - val_acc: 0.9866\n",
      "Epoch 8/100\n",
      "14000/14000 [==============================] - 14s 965us/sample - loss: 0.0827 - acc: 0.9894 - val_loss: 0.5319 - val_acc: 0.7520\n",
      "Epoch 9/100\n",
      "14000/14000 [==============================] - 14s 970us/sample - loss: 0.0796 - acc: 0.9849 - val_loss: 0.1072 - val_acc: 0.9674\n",
      "Epoch 10/100\n",
      "14000/14000 [==============================] - 14s 972us/sample - loss: 0.0601 - acc: 0.9906 - val_loss: 0.0476 - val_acc: 0.9909\n",
      "Epoch 11/100\n",
      "14000/14000 [==============================] - 14s 978us/sample - loss: 0.0479 - acc: 0.9930 - val_loss: 0.0446 - val_acc: 0.9929\n",
      "Epoch 12/100\n",
      "14000/14000 [==============================] - 14s 972us/sample - loss: 0.0417 - acc: 0.9937 - val_loss: 0.7025 - val_acc: 0.7514\n",
      "Epoch 13/100\n",
      "14000/14000 [==============================] - 14s 965us/sample - loss: 0.0369 - acc: 0.9939 - val_loss: 0.0313 - val_acc: 0.9923\n",
      "Epoch 14/100\n",
      "14000/14000 [==============================] - 14s 979us/sample - loss: 0.0305 - acc: 0.9944 - val_loss: 0.8985 - val_acc: 0.7494\n",
      "Epoch 15/100\n",
      "14000/14000 [==============================] - 14s 973us/sample - loss: 0.0310 - acc: 0.9934 - val_loss: 0.5239 - val_acc: 0.7569\n",
      "Epoch 16/100\n",
      "14000/14000 [==============================] - 14s 968us/sample - loss: 0.0249 - acc: 0.9949 - val_loss: 0.0243 - val_acc: 0.9940\n",
      "Epoch 17/100\n",
      "14000/14000 [==============================] - 14s 978us/sample - loss: 0.0206 - acc: 0.9957 - val_loss: 0.0407 - val_acc: 0.9891\n",
      "Epoch 18/100\n",
      "14000/14000 [==============================] - 14s 968us/sample - loss: 0.0218 - acc: 0.9954 - val_loss: 0.0553 - val_acc: 0.9880\n",
      "Epoch 19/100\n",
      "14000/14000 [==============================] - 14s 966us/sample - loss: 0.0160 - acc: 0.9970 - val_loss: 0.0273 - val_acc: 0.9926\n",
      "Epoch 20/100\n",
      "14000/14000 [==============================] - 14s 966us/sample - loss: 0.0157 - acc: 0.9969 - val_loss: 0.0430 - val_acc: 0.9891\n",
      "Epoch 21/100\n",
      "14000/14000 [==============================] - 14s 966us/sample - loss: 0.0122 - acc: 0.9974 - val_loss: 0.0318 - val_acc: 0.9940\n",
      "Epoch 22/100\n",
      "14000/14000 [==============================] - 13s 964us/sample - loss: 0.0171 - acc: 0.9960 - val_loss: 0.0326 - val_acc: 0.9940\n",
      "Epoch 23/100\n",
      "14000/14000 [==============================] - 14s 981us/sample - loss: 0.0146 - acc: 0.9961 - val_loss: 0.0504 - val_acc: 0.9880\n",
      "Epoch 24/100\n",
      "14000/14000 [==============================] - 14s 966us/sample - loss: 0.0159 - acc: 0.9952 - val_loss: 0.0927 - val_acc: 0.9783\n",
      "Epoch 25/100\n",
      "14000/14000 [==============================] - 14s 965us/sample - loss: 0.0115 - acc: 0.9972 - val_loss: 0.0622 - val_acc: 0.9809\n",
      "Epoch 26/100\n",
      "13984/14000 [============================>.] - ETA: 0s - loss: 0.0161 - acc: 0.9959\n",
      "Epoch 00026: ReduceLROnPlateau reducing learning rate to 9.999999747378752e-06.\n",
      "14000/14000 [==============================] - 14s 973us/sample - loss: 0.0162 - acc: 0.9958 - val_loss: 0.0259 - val_acc: 0.9946\n",
      "Epoch 27/100\n",
      "14000/14000 [==============================] - 13s 964us/sample - loss: 0.0056 - acc: 0.9993 - val_loss: 0.0301 - val_acc: 0.9929\n",
      "Epoch 28/100\n",
      " 6496/14000 [============>.................] - ETA: 6s - loss: 0.0035 - acc: 0.9998"
     ]
    }
   ],
   "source": [
    "%%time\n",
    "history = model.fit(X_train, y_train,\n",
    "                    batch_size=batch_size,\n",
    "                    epochs=n_epoch,\n",
    "                    validation_split=0.2,\n",
    "                    shuffle=True,\n",
    "                    verbose=1,\n",
    "                    callbacks=[early_stop, reduce_lr]\n",
    "                   )"
   ]
  },
  {
   "cell_type": "code",
   "execution_count": 13,
   "metadata": {
    "_uuid": "898075f768db94965133df52fe650334f744541d"
   },
   "outputs": [
    {
     "data": {
      "image/png": "[encoded data removed]",
      "text/plain": [
       "<Figure size 1080x360 with 2 Axes>"
      ]
     },
     "metadata": {},
     "output_type": "display_data"
    }
   ],
   "source": [
    "# Plot the training graph\n",
    "def plot_training(history):\n",
    "    acc = history.history['acc']\n",
    "    val_acc = history.history['val_acc']\n",
    "    loss = history.history['loss']\n",
    "    val_loss = history.history['val_loss']\n",
    "    epochs = range(len(acc))\n",
    "\n",
    "    fig, axes = plt.subplots(1, 2, figsize=(15,5))\n",
    "    \n",
    "    axes[0].plot(epochs, acc, 'r-', label='Training Accuracy')\n",
    "    axes[0].plot(epochs, val_acc, 'b--', label='Validation Accuracy')\n",
    "    axes[0].set_title('Training and Validation Accuracy')\n",
    "    axes[0].legend(loc='best')\n",
    "\n",
    "    axes[1].plot(epochs, loss, 'r-', label='Training Loss')\n",
    "    axes[1].plot(epochs, val_loss, 'b--', label='Validation Loss')\n",
    "    axes[1].set_title('Training and Validation Loss')\n",
    "    axes[1].legend(loc='best')\n",
    "    \n",
    "    plt.show()\n",
    "    \n",
    "plot_training(history)"
   ]
  },
  {
   "cell_type": "code",
   "execution_count": 14,
   "metadata": {
    "_uuid": "cd427b2643d0a1e94227977ecf9b579415f9f7d4"
   },
   "outputs": [
    {
     "data": {
      "image/png": "[encoded data removed]",
      "text/plain": [
       "<Figure size 432x288 with 1 Axes>"
      ]
     },
     "metadata": {},
     "output_type": "display_data"
    },
    {
     "name": "stdout",
     "output_type": "stream",
     "text": [
      "              precision    recall  f1-score   support\n",
      "\n",
      "           0       1.00      1.00      1.00      4364\n",
      "           1       1.00      1.00      1.00     13136\n",
      "\n",
      "   micro avg       1.00      1.00      1.00     17500\n",
      "   macro avg       1.00      1.00      1.00     17500\n",
      "weighted avg       1.00      1.00      1.00     17500\n",
      "\n",
      "\n",
      "AUC:  0.9984344141134807\n"
     ]
    }
   ],
   "source": [
    "# Classification report and confusion matrix\n",
    "from sklearn.metrics import *\n",
    "import seaborn as sns\n",
    "\n",
    "def showClassficationReport(model, X_train, y_train):\n",
    "    y_pred = model.predict(X_train)\n",
    "    y_pred = y_pred >= 0.5\n",
    "    y_pred = y_pred.astype('int').ravel()\n",
    "    conf_matrix = confusion_matrix(y_train, y_pred, labels = [1,0])\n",
    "    sns.heatmap(conf_matrix.T, annot=True, fmt=\"d\", square=True, cbar=False, \n",
    "                cmap=plt.cm.gray, xticklabels=[1,0], yticklabels=[1,0])\n",
    "    plt.ylabel('Predicted')\n",
    "    plt.xlabel('Actual')\n",
    "    plt.show()\n",
    "    \n",
    "    print(classification_report(y_train, y_pred, target_names=['0','1']))\n",
    "    print(\"\\nAUC: \", roc_auc_score(y_train, y_pred))\n",
    "\n",
    "showClassficationReport(model, X_train, y_train)"
   ]
  },
  {
   "cell_type": "markdown",
   "metadata": {
    "_uuid": "c841e3ab0b59e0a3bf9ae1885d99533b05f06fc4"
   },
   "source": [
    "## Prepare data for prediction on test set"
   ]
  },
  {
   "cell_type": "code",
   "execution_count": 15,
   "metadata": {
    "_uuid": "ddcb5cc138db534b69f5a29d4138ca097d23ad23"
   },
   "outputs": [
    {
     "name": "stdout",
     "output_type": "stream",
     "text": [
      "X_test.shape = (4000, 32, 32, 3)\n",
      "test_img_ids.shape = 4000\n"
     ]
    }
   ],
   "source": [
    "# Setup training data\n",
    "X_test = []\n",
    "test_img_ids = []\n",
    "\n",
    "# Read each image and store in a list\n",
    "for image_id in os.listdir(test_dir):\n",
    "    image = plt.imread(os.path.join(test_dir, image_id))\n",
    "    X_test.append(image)\n",
    "    test_img_ids.append(image_id)\n",
    "\n",
    "# Convert the list into array and set datatype to float32\n",
    "X_test = np.asarray(X_test).astype('float32')\n",
    "X_test /= 255.\n",
    "print(\"X_test.shape =\", X_test.shape)\n",
    "print(\"test_img_ids.shape =\", len(test_img_ids))"
   ]
  },
  {
   "cell_type": "markdown",
   "metadata": {
    "_uuid": "08afdd8c3000a63d5846644d83bebd55bb2e7fdb"
   },
   "source": [
    "## Predict and Submit"
   ]
  },
  {
   "cell_type": "code",
   "execution_count": 16,
   "metadata": {
    "_uuid": "067733fbfd186fa1d65d4110165b345a6c9f1898"
   },
   "outputs": [
    {
     "data": {
      "text/plain": [
       "(4000,)"
      ]
     },
     "execution_count": 16,
     "metadata": {},
     "output_type": "execute_result"
    }
   ],
   "source": [
    "# Predict on test data\n",
    "predictions = model.predict(X_test)\n",
    "predictions = predictions >= 0.5\n",
    "predictions = predictions.astype('int').ravel()\n",
    "predictions.shape"
   ]
  },
  {
   "cell_type": "code",
   "execution_count": 17,
   "metadata": {
    "_uuid": "5785b0499ce1d7425bce81e98c2d20d29dc7cc7e"
   },
   "outputs": [
    {
     "data": {
      "text/html": [
       "<div>\n",
       "<style scoped>\n",
       "    .dataframe tbody tr th:only-of-type {\n",
       "        vertical-align: middle;\n",
       "    }\n",
       "\n",
       "    .dataframe tbody tr th {\n",
       "        vertical-align: top;\n",
       "    }\n",
       "\n",
       "    .dataframe thead th {\n",
       "        text-align: right;\n",
       "    }\n",
       "</style>\n",
       "<table border=\"1\" class=\"dataframe\">\n",
       "  <thead>\n",
       "    <tr style=\"text-align: right;\">\n",
       "      <th></th>\n",
       "      <th>id</th>\n",
       "      <th>has_cactus</th>\n",
       "    </tr>\n",
       "  </thead>\n",
       "  <tbody>\n",
       "    <tr>\n",
       "      <th>0</th>\n",
       "      <td>c662bde123f0f83b3caae0ffda237a93.jpg</td>\n",
       "      <td>1</td>\n",
       "    </tr>\n",
       "    <tr>\n",
       "      <th>1</th>\n",
       "      <td>9553eed7793d4cf88b5226d446d93dae.jpg</td>\n",
       "      <td>0</td>\n",
       "    </tr>\n",
       "    <tr>\n",
       "      <th>2</th>\n",
       "      <td>19f059a7ce41b25be1548bc4049b45ec.jpg</td>\n",
       "      <td>1</td>\n",
       "    </tr>\n",
       "    <tr>\n",
       "      <th>3</th>\n",
       "      <td>fb4f464486f4894330273346ce939252.jpg</td>\n",
       "      <td>1</td>\n",
       "    </tr>\n",
       "    <tr>\n",
       "      <th>4</th>\n",
       "      <td>b52558a522db6ec2501ae188b6d6e526.jpg</td>\n",
       "      <td>0</td>\n",
       "    </tr>\n",
       "  </tbody>\n",
       "</table>\n",
       "</div>"
      ],
      "text/plain": [
       "                                     id  has_cactus\n",
       "0  c662bde123f0f83b3caae0ffda237a93.jpg           1\n",
       "1  9553eed7793d4cf88b5226d446d93dae.jpg           0\n",
       "2  19f059a7ce41b25be1548bc4049b45ec.jpg           1\n",
       "3  fb4f464486f4894330273346ce939252.jpg           1\n",
       "4  b52558a522db6ec2501ae188b6d6e526.jpg           0"
      ]
     },
     "execution_count": 17,
     "metadata": {},
     "output_type": "execute_result"
    }
   ],
   "source": [
    "# Create dataframe for submission\n",
    "submission_df = pd.DataFrame({'id' : test_img_ids,\n",
    "                              'has_cactus' : predictions })\n",
    "#submission_df['has_cactus'] = submission_df['has_cactus'].astype('int')\n",
    "submission_df.head()"
   ]
  },
  {
   "cell_type": "code",
   "execution_count": 18,
   "metadata": {
    "_uuid": "f2b7c10b6dd4103cf2477fe6f492a635f312b1e1"
   },
   "outputs": [],
   "source": [
    "# Create submission file\n",
    "submission_df.to_csv('submission.csv', index=False)"
   ]
  }
 ],
 "metadata": {
  "kernelspec": {
   "display_name": "Python 3",
   "language": "python",
   "name": "python3"
  },
  "language_info": {
   "codemirror_mode": {
    "name": "ipython",
    "version": 3
   },
   "file_extension": ".py",
   "mimetype": "text/x-python",
   "name": "python",
   "nbconvert_exporter": "python",
   "pygments_lexer": "ipython3",
   "version": "3.6.6"
  }
 },
 "nbformat": 4,
 "nbformat_minor": 1
}
